{
 "cells": [
  {
   "cell_type": "markdown",
   "metadata": {
    "toc": true
   },
   "source": [
    "<h1>Table of Contents<span class=\"tocSkip\"></span></h1>\n",
    "<div class=\"toc\"><ul class=\"toc-item\"><li><span><a href=\"#Objectives\" data-toc-modified-id=\"Objectives-1\"><span class=\"toc-item-num\">1&nbsp;&nbsp;</span>Objectives</a></span></li><li><span><a href=\"#First-Steps:-Sampling\" data-toc-modified-id=\"First-Steps:-Sampling-2\"><span class=\"toc-item-num\">2&nbsp;&nbsp;</span>First Steps: Sampling</a></span><ul class=\"toc-item\"><li><span><a href=\"#Our-View-of-The-World-Isn't-Perfect\" data-toc-modified-id=\"Our-View-of-The-World-Isn't-Perfect-2.1\"><span class=\"toc-item-num\">2.1&nbsp;&nbsp;</span>Our View of The World Isn't Perfect</a></span></li><li><span><a href=\"#Solutions?\" data-toc-modified-id=\"Solutions?-2.2\"><span class=\"toc-item-num\">2.2&nbsp;&nbsp;</span>Solutions?</a></span><ul class=\"toc-item\"><li><span><a href=\"#Observe-the-Whole-Population\" data-toc-modified-id=\"Observe-the-Whole-Population-2.2.1\"><span class=\"toc-item-num\">2.2.1&nbsp;&nbsp;</span>Observe the Whole Population</a></span></li><li><span><a href=\"#We-Sample-and-Infer-the-Population's-Distribution\" data-toc-modified-id=\"We-Sample-and-Infer-the-Population's-Distribution-2.2.2\"><span class=\"toc-item-num\">2.2.2&nbsp;&nbsp;</span>We Sample and Infer the Population's Distribution</a></span></li></ul></li><li><span><a href=\"#Going-Forward\" data-toc-modified-id=\"Going-Forward-2.3\"><span class=\"toc-item-num\">2.3&nbsp;&nbsp;</span>Going Forward</a></span></li></ul></li><li><span><a href=\"#Probability-Distributions\" data-toc-modified-id=\"Probability-Distributions-3\"><span class=\"toc-item-num\">3&nbsp;&nbsp;</span>Probability Distributions</a></span><ul class=\"toc-item\"><li><span><a href=\"#Discrete-Distributions\" data-toc-modified-id=\"Discrete-Distributions-3.1\"><span class=\"toc-item-num\">3.1&nbsp;&nbsp;</span>Discrete Distributions</a></span><ul class=\"toc-item\"><li><span><a href=\"#Examples-of-Discrete-Distributions\" data-toc-modified-id=\"Examples-of-Discrete-Distributions-3.1.1\"><span class=\"toc-item-num\">3.1.1&nbsp;&nbsp;</span>Examples of Discrete Distributions</a></span></li></ul></li><li><span><a href=\"#Continuous-Distributions\" data-toc-modified-id=\"Continuous-Distributions-3.2\"><span class=\"toc-item-num\">3.2&nbsp;&nbsp;</span>Continuous Distributions</a></span><ul class=\"toc-item\"><li><span><a href=\"#Examples-of-Continuous-Distributions\" data-toc-modified-id=\"Examples-of-Continuous-Distributions-3.2.1\"><span class=\"toc-item-num\">3.2.1&nbsp;&nbsp;</span>Examples of Continuous Distributions</a></span></li></ul></li></ul></li><li><span><a href=\"#PMF:-Probability-Mass-Function\" data-toc-modified-id=\"PMF:-Probability-Mass-Function-4\"><span class=\"toc-item-num\">4&nbsp;&nbsp;</span>PMF: Probability Mass Function</a></span><ul class=\"toc-item\"><li><span><a href=\"#Uniform-Distribution\" data-toc-modified-id=\"Uniform-Distribution-4.1\"><span class=\"toc-item-num\">4.1&nbsp;&nbsp;</span>Uniform Distribution</a></span></li></ul></li><li><span><a href=\"#PDF:-Probability-Density-Function\" data-toc-modified-id=\"PDF:-Probability-Density-Function-5\"><span class=\"toc-item-num\">5&nbsp;&nbsp;</span>PDF: Probability Density Function</a></span><ul class=\"toc-item\"><li><span><a href=\"#Describing-the-PDF\" data-toc-modified-id=\"Describing-the-PDF-5.1\"><span class=\"toc-item-num\">5.1&nbsp;&nbsp;</span>Describing the PDF</a></span></li></ul></li><li><span><a href=\"#CDF:-Cumulative-Distribution-Function\" data-toc-modified-id=\"CDF:-Cumulative-Distribution-Function-6\"><span class=\"toc-item-num\">6&nbsp;&nbsp;</span>CDF: Cumulative Distribution Function</a></span><ul class=\"toc-item\"><li><span><a href=\"#Some-Things-to-Be-Aware-Of\" data-toc-modified-id=\"Some-Things-to-Be-Aware-Of-6.1\"><span class=\"toc-item-num\">6.1&nbsp;&nbsp;</span>Some Things to Be Aware Of</a></span></li><li><span><a href=\"#Example:-Using-CDF-&amp;-comparison-to-PDF\" data-toc-modified-id=\"Example:-Using-CDF-&amp;-comparison-to-PDF-6.2\"><span class=\"toc-item-num\">6.2&nbsp;&nbsp;</span>Example: Using CDF &amp; comparison to PDF</a></span></li></ul></li><li><span><a href=\"#Exercises\" data-toc-modified-id=\"Exercises-7\"><span class=\"toc-item-num\">7&nbsp;&nbsp;</span>Exercises</a></span><ul class=\"toc-item\"><li><span><a href=\"#Order-Totals-CDF-&amp;-PDF\" data-toc-modified-id=\"Order-Totals-CDF-&amp;-PDF-7.1\"><span class=\"toc-item-num\">7.1&nbsp;&nbsp;</span>Order Totals CDF &amp; PDF</a></span></li><li><span><a href=\"#Order-Totals-Observations\" data-toc-modified-id=\"Order-Totals-Observations-7.2\"><span class=\"toc-item-num\">7.2&nbsp;&nbsp;</span>Order Totals Observations</a></span></li></ul></li><li><span><a href=\"#Level-Up:-Details-on-Expected-Value-and-Variance\" data-toc-modified-id=\"Level-Up:-Details-on-Expected-Value-and-Variance-8\"><span class=\"toc-item-num\">8&nbsp;&nbsp;</span>Level Up: Details on Expected Value and Variance</a></span><ul class=\"toc-item\"><li><span><a href=\"#For-PMF---Discrete-Values\" data-toc-modified-id=\"For-PMF---Discrete-Values-8.1\"><span class=\"toc-item-num\">8.1&nbsp;&nbsp;</span>For PMF - Discrete Values</a></span><ul class=\"toc-item\"><li><span><a href=\"#Expected-Value/Mean\" data-toc-modified-id=\"Expected-Value/Mean-8.1.1\"><span class=\"toc-item-num\">8.1.1&nbsp;&nbsp;</span>Expected Value/Mean</a></span></li><li><span><a href=\"#Variance/Standard-Deviation\" data-toc-modified-id=\"Variance/Standard-Deviation-8.1.2\"><span class=\"toc-item-num\">8.1.2&nbsp;&nbsp;</span>Variance/Standard Deviation</a></span></li></ul></li><li><span><a href=\"#For-PDF---Continuous-Values\" data-toc-modified-id=\"For-PDF---Continuous-Values-8.2\"><span class=\"toc-item-num\">8.2&nbsp;&nbsp;</span>For PDF - Continuous Values</a></span></li></ul></li><li><span><a href=\"#Level-Up:-CDF-Use-Cases\" data-toc-modified-id=\"Level-Up:-CDF-Use-Cases-9\"><span class=\"toc-item-num\">9&nbsp;&nbsp;</span>Level Up: CDF Use Cases</a></span><ul class=\"toc-item\"><li><span><a href=\"#Quickly-identify-key-values\" data-toc-modified-id=\"Quickly-identify-key-values-9.1\"><span class=\"toc-item-num\">9.1&nbsp;&nbsp;</span>Quickly identify key values</a></span></li><li><span><a href=\"#Outliers-can-be-more-obvious\" data-toc-modified-id=\"Outliers-can-be-more-obvious-9.2\"><span class=\"toc-item-num\">9.2&nbsp;&nbsp;</span>Outliers can be more obvious</a></span></li><li><span><a href=\"#Identifying-clusters\" data-toc-modified-id=\"Identifying-clusters-9.3\"><span class=\"toc-item-num\">9.3&nbsp;&nbsp;</span>Identifying clusters</a></span></li><li><span><a href=\"#Relative-easy-to-view-multiple-distributions\" data-toc-modified-id=\"Relative-easy-to-view-multiple-distributions-9.4\"><span class=\"toc-item-num\">9.4&nbsp;&nbsp;</span>Relative easy to view multiple distributions</a></span></li></ul></li><li><span><a href=\"#Level-Up:-Skewness\" data-toc-modified-id=\"Level-Up:-Skewness-10\"><span class=\"toc-item-num\">10&nbsp;&nbsp;</span>Level Up: Skewness</a></span></li><li><span><a href=\"#Level-Up:-Kurtosis\" data-toc-modified-id=\"Level-Up:-Kurtosis-11\"><span class=\"toc-item-num\">11&nbsp;&nbsp;</span>Level Up: Kurtosis</a></span></li><li><span><a href=\"#Level-Up:-Transforming-Data\" data-toc-modified-id=\"Level-Up:-Transforming-Data-12\"><span class=\"toc-item-num\">12&nbsp;&nbsp;</span>Level Up: Transforming Data</a></span><ul class=\"toc-item\"><li><span><a href=\"#Root-Transformations\" data-toc-modified-id=\"Root-Transformations-12.1\"><span class=\"toc-item-num\">12.1&nbsp;&nbsp;</span>Root Transformations</a></span></li><li><span><a href=\"#Logarithmic-Transformations\" data-toc-modified-id=\"Logarithmic-Transformations-12.2\"><span class=\"toc-item-num\">12.2&nbsp;&nbsp;</span>Logarithmic Transformations</a></span></li><li><span><a href=\"#Power-Transformations\" data-toc-modified-id=\"Power-Transformations-12.3\"><span class=\"toc-item-num\">12.3&nbsp;&nbsp;</span>Power Transformations</a></span></li></ul></li></ul></div>"
   ]
  },
  {
   "cell_type": "code",
   "execution_count": 1,
   "metadata": {},
   "outputs": [],
   "source": [
    "from scipy import stats\n",
    "from matplotlib import pyplot as plt\n",
    "import seaborn as sns\n",
    "import numpy as np\n",
    "%matplotlib inline"
   ]
  },
  {
   "cell_type": "markdown",
   "metadata": {
    "heading_collapsed": true
   },
   "source": [
    "# Objectives"
   ]
  },
  {
   "cell_type": "markdown",
   "metadata": {
    "hidden": true
   },
   "source": [
    "* Explain how sampling is related to its related population\n",
    "* Describe the difference between discrete and continuous random variables\n",
    "* Describe the difference between PMFs, PDFs, and CDFs"
   ]
  },
  {
   "cell_type": "markdown",
   "metadata": {
    "heading_collapsed": true
   },
   "source": [
    "# First Steps: Sampling"
   ]
  },
  {
   "cell_type": "markdown",
   "metadata": {
    "hidden": true
   },
   "source": [
    "Before we get into our main topic of probability distributions, it'll help to first understand the concept of **sampling**."
   ]
  },
  {
   "cell_type": "markdown",
   "metadata": {
    "heading_collapsed": true,
    "hidden": true
   },
   "source": [
    "## Our View of The World Isn't Perfect"
   ]
  },
  {
   "cell_type": "markdown",
   "metadata": {
    "hidden": true
   },
   "source": [
    "We don't have _perfect_ information; life doesn't have an answer key\n",
    "\n",
    "\n",
    "![no answer in the back of the book meme](images/no-answers-in-back-of-book.jpeg)\n",
    "\n",
    "\n",
    "Ideally, we want to have all the details of a whole group. But as you can guess, that's not always feasible."
   ]
  },
  {
   "cell_type": "markdown",
   "metadata": {
    "hidden": true
   },
   "source": [
    "**🧠 Knowledge Check**: What are some reasons we sometimes _can't_ observe the whole group?\n",
    "<details>\n",
    "<ul>\n",
    "    <li>Expensive</li>\n",
    "    <li>Unrealistic</li>\n",
    "    <li>We don't need it to gain insights!</li>\n",
    "</ul>\n",
    "</details>"
   ]
  },
  {
   "cell_type": "markdown",
   "metadata": {
    "heading_collapsed": true,
    "hidden": true
   },
   "source": [
    "## Solutions?"
   ]
  },
  {
   "cell_type": "markdown",
   "metadata": {
    "hidden": true
   },
   "source": [
    "Let's use an example scenario to think about how we can approach this. Let's say we would like to know the ages of students at Flatiron School. \n",
    "\n",
    "Picture what this might look like. How would you describe the population of students' ages?"
   ]
  },
  {
   "cell_type": "markdown",
   "metadata": {
    "hidden": true
   },
   "source": [
    "> **Key Terms**\n",
    ">\n",
    "> We define the **population** as the whole group we're interested in. We abstract this to the population being the whole set of _possible outcomes_.\n",
    "> \n",
    "> And when we \"pick\" a student (or students), we say we have (randomly) _sampled_ over the population. We call this subset of \"picked\" individuals/outcomes from the population a **sample**."
   ]
  },
  {
   "cell_type": "markdown",
   "metadata": {
    "hidden": true
   },
   "source": [
    "Well, if we knew what the **population** (all the Flatiron students) looked like, we could probably get an idea of what the likely age is of a _randomly_ picked one from the population."
   ]
  },
  {
   "cell_type": "markdown",
   "metadata": {
    "hidden": true
   },
   "source": [
    "We can describe the \"look\" of the population a **probability distribution**. "
   ]
  },
  {
   "cell_type": "markdown",
   "metadata": {
    "hidden": true
   },
   "source": [
    "> **Key Terms**\n",
    "> \n",
    "> A **probability distribution** is a representation of the frequencies of potential outcomes or the percentage of time each outcome occurs."
   ]
  },
  {
   "cell_type": "markdown",
   "metadata": {
    "hidden": true
   },
   "source": [
    "There are a few ways to get the probability distribution, even if it's only approximate."
   ]
  },
  {
   "cell_type": "markdown",
   "metadata": {
    "heading_collapsed": true,
    "hidden": true
   },
   "source": [
    "### Observe the Whole Population"
   ]
  },
  {
   "cell_type": "markdown",
   "metadata": {
    "hidden": true
   },
   "source": [
    "This might seem like \"cheating\" but sometimes this is really the best way even if it's \"expensive\" (monetarily, time, or otherwise). Sometimes this has already been done for us and we can use those results. It's important to note that sometimes the information is outdated but we can use it as approximately right. (Think how the US Census is done only every 10 years.)"
   ]
  },
  {
   "cell_type": "markdown",
   "metadata": {
    "hidden": true
   },
   "source": [
    "So in our example, we could have a _distribution_ of ages of our population. Let's say of all students were asked their age when enrolling:\n",
    "\n",
    "- $15\\%$ are under the age of $25$\n",
    "- $30\\%$ are between $25$ & $30$\n",
    "- $25\\%$ are between $30$ & $35$\n",
    "- $20\\%$ are between $35$ & $40$\n",
    "- $10\\%$ are over the age of $40$"
   ]
  },
  {
   "cell_type": "markdown",
   "metadata": {
    "heading_collapsed": true,
    "hidden": true
   },
   "source": [
    "### We Sample and Infer the Population's Distribution "
   ]
  },
  {
   "cell_type": "markdown",
   "metadata": {
    "hidden": true
   },
   "source": [
    "Another method is to sample the population (usually randomly) and observe what the sample's distribution looks like. We can then infer what the population might look like."
   ]
  },
  {
   "cell_type": "markdown",
   "metadata": {
    "hidden": true
   },
   "source": [
    "Suppose we ask 100 random students their ages and observe the following:\n",
    "\n",
    "- $10$ are under the age of $25$\n",
    "- $30$ are between $25$ & $30$\n",
    "- $30$ are between $30$ & $35$\n",
    "- $15$ are between $35$ & $40$\n",
    "- $15$ are over the age of $40$\n",
    "\n",
    "Then we can guess that our population is similar to this distribution."
   ]
  },
  {
   "cell_type": "markdown",
   "metadata": {
    "hidden": true
   },
   "source": [
    "How similar? Well, that can be a tough question and is part of _inferential statistics_ where we make predictions based on our observations/data.  We'll  be going into more detail about this in the near future."
   ]
  },
  {
   "cell_type": "markdown",
   "metadata": {
    "heading_collapsed": true,
    "hidden": true
   },
   "source": [
    "## Going Forward"
   ]
  },
  {
   "cell_type": "markdown",
   "metadata": {
    "hidden": true
   },
   "source": [
    "Today, we're going to focus on how we can describe probability distributions. This will give us a tool set whether we're talking about a sample or an established population."
   ]
  },
  {
   "cell_type": "markdown",
   "metadata": {
    "hidden": true
   },
   "source": [
    "> **Aside - Use a Mathematical Model as a Proxy to the Population's Distribution**\n",
    "> \n",
    "> If we know what a population distribution _should_ look, we can mathematically  define a model that would fill-in for our population.\n",
    "> \n",
    "> This is analogous to something like using a perfect circle to approximate a car's tire. Is it exactly the same? No, there are some deviations from the circle but it's close enough for many applications.\n",
    "> \n",
    "> There are many other _parametric probability distributions_ which can be described mathematically and can be very convenient for us. We won't focus on this now, but know that is another use case of probability distributions."
   ]
  },
  {
   "cell_type": "markdown",
   "metadata": {
    "heading_collapsed": true
   },
   "source": [
    "# Probability Distributions"
   ]
  },
  {
   "cell_type": "markdown",
   "metadata": {
    "hidden": true
   },
   "source": [
    "![](images/distributions.png)"
   ]
  },
  {
   "cell_type": "markdown",
   "metadata": {
    "hidden": true
   },
   "source": [
    "We will learn about a variety of different probability distributions, but before we do so, we need to establish the difference between **discrete** and **continuous** distributions."
   ]
  },
  {
   "cell_type": "markdown",
   "metadata": {
    "heading_collapsed": true,
    "hidden": true
   },
   "source": [
    "## Discrete Distributions"
   ]
  },
  {
   "cell_type": "markdown",
   "metadata": {
    "hidden": true
   },
   "source": [
    "With discrete distributions, you can only get certain specific values, not all values in a range.  Take, for example, a roll of a single six-sided die. "
   ]
  },
  {
   "cell_type": "markdown",
   "metadata": {
    "hidden": true
   },
   "source": [
    "![](images/uniform.png)"
   ]
  },
  {
   "cell_type": "markdown",
   "metadata": {
    "hidden": true
   },
   "source": [
    "There are 6 possible outcomes of the roll. As you see on the PMF plot, the bars which represent probability do not touch, suggesting non-integer numbers between 1 and 6 are not possible results."
   ]
  },
  {
   "cell_type": "markdown",
   "metadata": {
    "heading_collapsed": true,
    "hidden": true
   },
   "source": [
    "### Examples of Discrete Distributions"
   ]
  },
  {
   "cell_type": "markdown",
   "metadata": {
    "hidden": true
   },
   "source": [
    "- **Uniform Distribution**\n",
    "    - Occurs when all possible outcomes are equally likely.\n",
    "- **Bernoulli Distribution**\n",
    "    - Represents the probability of success for a certain experiment (binary outcome).\n",
    "- **Binomial Distribution**\n",
    "    - Represents the probability of observing a specific number of successes (Bernoulli trials) in a specific number of trials."
   ]
  },
  {
   "cell_type": "markdown",
   "metadata": {
    "heading_collapsed": true,
    "hidden": true
   },
   "source": [
    "## Continuous Distributions"
   ]
  },
  {
   "cell_type": "markdown",
   "metadata": {
    "hidden": true
   },
   "source": [
    "With a continuous distribution, you can expect to get any value within a range. Think about measuring the length of something. The reported measurement can always be more or less precise.\n",
    "\n",
    "![](images/pdf.png)"
   ]
  },
  {
   "cell_type": "markdown",
   "metadata": {
    "heading_collapsed": true,
    "hidden": true
   },
   "source": [
    "### Examples of Continuous Distributions"
   ]
  },
  {
   "cell_type": "markdown",
   "metadata": {
    "hidden": true
   },
   "source": [
    "- **Continuous Uniform**\n",
    "- **Normal or Gaussian**\n",
    "- **Exponential**"
   ]
  },
  {
   "cell_type": "markdown",
   "metadata": {
    "heading_collapsed": true
   },
   "source": [
    "# PMF: Probability Mass Function"
   ]
  },
  {
   "cell_type": "markdown",
   "metadata": {
    "hidden": true
   },
   "source": [
    "The **probability mass function (pmf)** for a random variable gives, at any value $k$, the probability that the random variable takes the value $k$. Suppose, for example, that I have a jar full of lottery balls containing:\n",
    "- 50 \"1\"s,\n",
    "- 25 \"2\"s,\n",
    "- 15 \"3\"s,\n",
    "- 10 \"4\"s\n",
    "\n",
    "We then represent this function in a plot like so:"
   ]
  },
  {
   "cell_type": "code",
   "execution_count": 2,
   "metadata": {
    "hidden": true
   },
   "outputs": [
    {
     "data": {
      "text/plain": [
       "{1: 0.5, 2: 0.25, 3: 0.15, 4: 0.1}"
      ]
     },
     "execution_count": 2,
     "metadata": {},
     "output_type": "execute_result"
    }
   ],
   "source": [
    "# For each number, we calculate the probability that pull it from the jar by dividing\n",
    "\n",
    "numbers = range(1, 5)\n",
    "counts = [50, 25, 15, 10]\n",
    "\n",
    "# calculate the probs by dividing each count by the total number of balls.\n",
    "\n",
    "probs = [count/sum(counts) for count in counts]\n",
    "\n",
    "lotto_dict = {number: prob for number, prob in zip(numbers, probs)}\n",
    "lotto_dict"
   ]
  },
  {
   "cell_type": "code",
   "execution_count": 3,
   "metadata": {
    "hidden": true
   },
   "outputs": [
    {
     "data": {
      "image/png": "[encoded data removed]",
      "text/plain": [
       "<Figure size 432x432 with 1 Axes>"
      ]
     },
     "metadata": {
      "needs_background": "light"
     },
     "output_type": "display_data"
    }
   ],
   "source": [
    "# Plot here!\n",
    "\n",
    "x = list(lotto_dict.keys())\n",
    "y = list(lotto_dict.values())\n",
    "\n",
    "fig, ax = plt.subplots(1, 1, figsize=(6, 6))\n",
    "ax.plot(x, y, 'bo', ms=8, label='lotto pmf')\n",
    "ax.vlines(x, 0, y, 'r', lw=5)\n",
    "ax.legend(loc='best');"
   ]
  },
  {
   "cell_type": "markdown",
   "metadata": {
    "heading_collapsed": true,
    "hidden": true
   },
   "source": [
    "## Uniform Distribution"
   ]
  },
  {
   "cell_type": "markdown",
   "metadata": {
    "hidden": true
   },
   "source": [
    "The uniform distribution describes a set of discrete outcomes whose probabilities are all equally likely.\n",
    "\n",
    "A common example is the roll of a die.  \n",
    "\n",
    "The pmf of a discrete uniform distribution is simply:\n",
    "\n",
    "$ f(x)=\\frac{1}{n} $"
   ]
  },
  {
   "cell_type": "code",
   "execution_count": 4,
   "metadata": {
    "hidden": true
   },
   "outputs": [
    {
     "name": "stdout",
     "output_type": "stream",
     "text": [
      "Expected value: 6.5\n",
      "Variance: 11.916666666666664\n"
     ]
    }
   ],
   "source": [
    "# expected value for the roll of a 12-sided die\n",
    "\n",
    "expected_value = sum([1/12 * n for n in range(1, 13)])\n",
    "print(f'Expected value: {expected_value}')\n",
    "\n",
    "# variance for a roll of a 12-sided die\n",
    "\n",
    "variance = sum([1/12 * (n - expected_value)**2 for n in range(1, 13)])\n",
    "print(f'Variance: {variance}')"
   ]
  },
  {
   "cell_type": "markdown",
   "metadata": {
    "heading_collapsed": true
   },
   "source": [
    "# PDF: Probability Density Function"
   ]
  },
  {
   "cell_type": "markdown",
   "metadata": {
    "hidden": true
   },
   "source": [
    "> Probability density functions are similar to PMFs, in that they describe the probability of a result within a range of values. But where PMFs are appropriate for discrete variables and so can be descibed with barplots, PDFs are smooth curves that describe continuous random variables.  \n",
    "\n",
    "![](images/pdf_temp.png)"
   ]
  },
  {
   "cell_type": "markdown",
   "metadata": {
    "hidden": true
   },
   "source": [
    "We can think of a PDF as a bunch of bars of probabilities getting smaller and smaller until each neighbor is indistinguishable from its neighbor.\n",
    "\n",
    "It is then intuitive that you cannot calculate expected value and variance in the same way as we did with PMFs.  Instead, we have to integrate over the entirety of the curve to calculate the expected value."
   ]
  },
  {
   "cell_type": "markdown",
   "metadata": {
    "hidden": true
   },
   "source": [
    "![](images/pdf_inter.png)"
   ]
  },
  {
   "cell_type": "markdown",
   "metadata": {
    "heading_collapsed": true,
    "hidden": true
   },
   "source": [
    "## Describing the PDF"
   ]
  },
  {
   "cell_type": "markdown",
   "metadata": {
    "hidden": true
   },
   "source": [
    "Instead of calculating the mean and standard deviation by hand, we will rather get familiar with how they affect the shape of our PDF.\n"
   ]
  },
  {
   "cell_type": "markdown",
   "metadata": {
    "hidden": true
   },
   "source": [
    "The mean of our PDF affects where it is centered on the x-axis.  In `numpy` and `stats`, mean is denoted by the \"loc\" parameter.\n",
    "\n",
    "The two plots below have the same shape, but different centers."
   ]
  },
  {
   "cell_type": "code",
   "execution_count": 5,
   "metadata": {
    "hidden": true
   },
   "outputs": [
    {
     "data": {
      "image/png": "[encoded data removed]",
      "text/plain": [
       "<Figure size 432x288 with 1 Axes>"
      ]
     },
     "metadata": {
      "needs_background": "light"
     },
     "output_type": "display_data"
    }
   ],
   "source": [
    "fig, ax = plt.subplots()\n",
    "\n",
    "mean = 0\n",
    "z_curve = np.linspace(stats.norm(mean, 1).ppf(0.01),\n",
    "             stats.norm(mean, 1).ppf(0.99), 100)\n",
    "ax.plot(z_curve, stats.norm(mean, 1).pdf(z_curve),\n",
    "     'r-', lw=5, alpha=0.6, label='z_curve')\n",
    "\n",
    "mean = 1\n",
    "z_curve = np.linspace(stats.norm(mean, 1).ppf(0.01),\n",
    "             stats.norm(mean, 1).ppf(0.99), 100)\n",
    "ax.plot(z_curve, stats.norm(mean, 1).pdf(z_curve),\n",
    "     'b-', lw=5, alpha=0.6, label='norm pdf')\n",
    "\n",
    "ax.set_title(\"Two distributions differing in mean\");"
   ]
  },
  {
   "cell_type": "markdown",
   "metadata": {
    "hidden": true
   },
   "source": [
    "The variance of our plots describes how closely the points are gathered around the mean.  Low variance means tight and skinny, high variance short and wide."
   ]
  },
  {
   "cell_type": "code",
   "execution_count": 6,
   "metadata": {
    "hidden": true
   },
   "outputs": [
    {
     "data": {
      "image/png": "[encoded data removed]",
      "text/plain": [
       "<Figure size 432x288 with 1 Axes>"
      ]
     },
     "metadata": {
      "needs_background": "light"
     },
     "output_type": "display_data"
    }
   ],
   "source": [
    "fig, ax = plt.subplots()\n",
    "\n",
    "mean = 1\n",
    "var = 1\n",
    "z_curve = np.linspace(stats.norm(mean, var).ppf(0.01),\n",
    "             stats.norm(mean, var).ppf(0.99), 100)\n",
    "ax.plot(z_curve, stats.norm(mean, var).pdf(z_curve),\n",
    "     'r-', lw=5, alpha=0.6, label='z_curve')\n",
    "\n",
    "mean = 1\n",
    "var = 3\n",
    "z_curve = np.linspace(stats.norm(mean, var).ppf(0.01),\n",
    "             stats.norm(mean, var).ppf(0.99), 100)\n",
    "ax.plot(z_curve, stats.norm(mean, var).pdf(z_curve),\n",
    "     'b-', lw=5, alpha=0.6, label='norm pdf')\n",
    "\n",
    "ax.set_title(\"Two distributions differing in variance\");"
   ]
  },
  {
   "cell_type": "markdown",
   "metadata": {
    "heading_collapsed": true
   },
   "source": [
    "# CDF: Cumulative Distribution Function"
   ]
  },
  {
   "cell_type": "markdown",
   "metadata": {
    "hidden": true
   },
   "source": [
    "![](images/cdf.png)"
   ]
  },
  {
   "cell_type": "markdown",
   "metadata": {
    "hidden": true
   },
   "source": [
    "The cumulative distribution function describes the probability that your result will be of a value equal to or below a certain value. It can apply to both discrete or continuous functions.\n",
    "\n",
    "For the scenario above, the CDF would describe the probability of drawing a ball equal to or below a certain number.  \n",
    "\n",
    "In order to create the CDF from a sample, we:\n",
    "- align the values from least to greatest\n",
    "- for each value, count the number of values that are less than or equal to the current value\n",
    "- divide that count by the total number of values\n",
    "\n",
    "The CDF of the Lotto example plots how likely we are to get a ball less than or equal to a given example. \n",
    "\n",
    "Let's create the CDF for our Lotto example\n"
   ]
  },
  {
   "cell_type": "code",
   "execution_count": 7,
   "metadata": {
    "hidden": true
   },
   "outputs": [],
   "source": [
    "# align the values\n",
    "\n",
    "lotto_dict = {0:0, 1:50, 2:25, 3:15, 4:10}\n",
    "values = list(lotto_dict.keys())\n",
    "\n",
    "# count the number of values that are less than\n",
    "# or equal to the current value\n",
    "\n",
    "count_less_than_equal = np.cumsum(list(lotto_dict.values()))\n",
    "\n",
    "# divide by total number of values\n",
    "prob_less_than_or_equal = count_less_than_equal/sum(lotto_dict.values()) "
   ]
  },
  {
   "cell_type": "code",
   "execution_count": 8,
   "metadata": {
    "hidden": true
   },
   "outputs": [
    {
     "data": {
      "image/png": "[encoded data removed]",
      "text/plain": [
       "<Figure size 432x288 with 1 Axes>"
      ]
     },
     "metadata": {
      "needs_background": "light"
     },
     "output_type": "display_data"
    }
   ],
   "source": [
    "fig, ax = plt.subplots()\n",
    "ax.plot(values, prob_less_than_or_equal, 'bo', ms=8, label='lotto pdf')\n",
    "for i in range(0, 5):\n",
    "    ax.hlines(prob_less_than_or_equal[i], i,i+1, 'r', lw=5,)\n",
    "for i in range(0, 4):\n",
    "    ax.vlines(i+1, prob_less_than_or_equal[i+1],\n",
    "              prob_less_than_or_equal[i], linestyles='dotted')\n",
    "ax.legend(loc='best' )\n",
    "ax.set_ylim(0);"
   ]
  },
  {
   "cell_type": "markdown",
   "metadata": {
    "heading_collapsed": true,
    "hidden": true
   },
   "source": [
    "## Some Things to Be Aware Of"
   ]
  },
  {
   "cell_type": "markdown",
   "metadata": {
    "hidden": true
   },
   "source": [
    "- For continuous random variables, obtaining probabilities for observing a specific outcome is not possible \n",
    "- Be careful with interpretation of PDF\n",
    "\n",
    "We can use the CDF to learn the probability that a variable will be less than or equal to a given value.\n",
    "\n",
    "Typically, you'll see something like this equation associated with the CDF:\n",
    "\n",
    "$$F(x) = P(X\\leq x)$$"
   ]
  },
  {
   "cell_type": "markdown",
   "metadata": {
    "heading_collapsed": true,
    "hidden": true
   },
   "source": [
    "## Example: Using CDF & comparison to PDF"
   ]
  },
  {
   "cell_type": "markdown",
   "metadata": {
    "hidden": true
   },
   "source": [
    "Consider the following normal distributions of heights (more on the normal distribution below).\n",
    "\n",
    "The PDF and the CDF look like so:\n"
   ]
  },
  {
   "cell_type": "code",
   "execution_count": 37,
   "metadata": {},
   "outputs": [
    {
     "data": {
      "text/plain": [
       "array([-0.31747834, -1.04592283, -0.14843101, -0.55324295, -0.61012726,\n",
       "        0.57448569,  1.06577365, -0.5072312 ,  0.14673288, -2.35023169])"
      ]
     },
     "execution_count": 37,
     "metadata": {},
     "output_type": "execute_result"
    }
   ],
   "source": [
    "r = stats.norm.rvs(loc=0,scale=1,size=10)\n",
    "r"
   ]
  },
  {
   "cell_type": "code",
   "execution_count": 39,
   "metadata": {},
   "outputs": [
    {
     "data": {
      "text/plain": [
       "<scipy.stats._distn_infrastructure.rv_frozen at 0x7fbd5e119ac0>"
      ]
     },
     "execution_count": 39,
     "metadata": {},
     "output_type": "execute_result"
    }
   ],
   "source": [
    "r = stats.norm(loc=0,scale=1)\n",
    "r"
   ]
  },
  {
   "cell_type": "code",
   "execution_count": 9,
   "metadata": {},
   "outputs": [
    {
     "data": {
      "text/plain": [
       "array([8.98838489e-04, 1.12369401e-03, 1.32344103e-03, 1.91821455e-03,\n",
       "       2.67772375e-03, 4.87156798e-03, 6.43119335e-03, 8.29280183e-03,\n",
       "       8.37650684e-03, 9.16752890e-03, 1.25214021e-02, 1.35252676e-02,\n",
       "       1.47409761e-02, 1.57782321e-02, 1.69808912e-02, 1.81052079e-02,\n",
       "       1.85864547e-02, 1.91919453e-02, 2.08794185e-02, 2.11555636e-02,\n",
       "       2.30725127e-02, 2.35390200e-02, 2.35663198e-02, 2.38474064e-02,\n",
       "       2.55401449e-02, 2.56903841e-02, 2.72547816e-02, 2.72796758e-02,\n",
       "       2.93750626e-02, 2.95812887e-02, 2.99563013e-02, 3.08706569e-02,\n",
       "       3.11712143e-02, 3.12048596e-02, 3.17649710e-02, 3.34269311e-02,\n",
       "       3.39935882e-02, 3.42254808e-02, 3.45093845e-02, 3.51455622e-02,\n",
       "       3.52597568e-02, 3.58569461e-02, 3.63164698e-02, 3.82574653e-02,\n",
       "       3.85250094e-02, 3.86334838e-02, 4.03963286e-02, 4.15448084e-02,\n",
       "       4.18540072e-02, 4.42683423e-02, 4.70575671e-02, 4.78409406e-02,\n",
       "       4.95715986e-02, 5.30558800e-02, 5.31956656e-02, 5.36208567e-02,\n",
       "       5.43948966e-02, 5.46492839e-02, 5.52864957e-02, 5.75552642e-02,\n",
       "       5.78445452e-02, 5.83387382e-02, 5.97469948e-02, 5.98884633e-02,\n",
       "       6.04378630e-02, 6.13538172e-02, 6.17963940e-02, 6.21956242e-02,\n",
       "       6.22912477e-02, 6.29561370e-02, 6.30049754e-02, 6.56272865e-02,\n",
       "       6.56832689e-02, 6.78637820e-02, 7.11966544e-02, 7.12111780e-02,\n",
       "       7.15404394e-02, 7.22281268e-02, 7.24906563e-02, 7.27704140e-02,\n",
       "       7.31010905e-02, 7.34143997e-02, 7.35987899e-02, 7.37159927e-02,\n",
       "       7.50763132e-02, 7.56222107e-02, 7.62570622e-02, 7.71169703e-02,\n",
       "       8.45314343e-02, 8.45519177e-02, 8.54831629e-02, 8.69118209e-02,\n",
       "       8.92137712e-02, 9.27469077e-02, 9.28189556e-02, 9.41584796e-02,\n",
       "       9.46524168e-02, 9.57232166e-02, 9.97162793e-02, 9.98222883e-02,\n",
       "       1.00152253e-01, 1.00715199e-01, 1.03637903e-01, 1.04386001e-01,\n",
       "       1.04605918e-01, 1.05623156e-01, 1.11028823e-01, 1.12254392e-01,\n",
       "       1.16806305e-01, 1.17281437e-01, 1.17490281e-01, 1.17973857e-01,\n",
       "       1.20180160e-01, 1.23838095e-01, 1.24117545e-01, 1.24946158e-01,\n",
       "       1.25753914e-01, 1.26745649e-01, 1.31129673e-01, 1.32587772e-01,\n",
       "       1.33493423e-01, 1.35422774e-01, 1.35429684e-01, 1.37886041e-01,\n",
       "       1.38997884e-01, 1.39085859e-01, 1.40579579e-01, 1.40712508e-01,\n",
       "       1.41546912e-01, 1.41688771e-01, 1.42809595e-01, 1.43630872e-01,\n",
       "       1.45086815e-01, 1.46871445e-01, 1.46928474e-01, 1.52735319e-01,\n",
       "       1.53755222e-01, 1.54117233e-01, 1.55013098e-01, 1.55229219e-01,\n",
       "       1.56121499e-01, 1.59183575e-01, 1.60784363e-01, 1.61452817e-01,\n",
       "       1.62789891e-01, 1.63953755e-01, 1.64125208e-01, 1.64810830e-01,\n",
       "       1.67491708e-01, 1.68253089e-01, 1.68684535e-01, 1.69806634e-01,\n",
       "       1.71356976e-01, 1.71617668e-01, 1.74423482e-01, 1.78004466e-01,\n",
       "       1.78084958e-01, 1.78194426e-01, 1.78548677e-01, 1.78868113e-01,\n",
       "       1.79046494e-01, 1.79315633e-01, 1.80832053e-01, 1.81067576e-01,\n",
       "       1.83709224e-01, 1.84432300e-01, 1.84597204e-01, 1.84932293e-01,\n",
       "       1.85453188e-01, 1.86157009e-01, 1.87017845e-01, 1.87224809e-01,\n",
       "       1.88213691e-01, 1.88266881e-01, 1.88982528e-01, 1.89132535e-01,\n",
       "       1.91816607e-01, 1.93114396e-01, 1.94613899e-01, 1.94720837e-01,\n",
       "       1.96479606e-01, 1.96931404e-01, 1.97084997e-01, 1.99875210e-01,\n",
       "       2.03927754e-01, 2.05364080e-01, 2.06379742e-01, 2.06433368e-01,\n",
       "       2.06714209e-01, 2.08928526e-01, 2.09849962e-01, 2.09946698e-01,\n",
       "       2.11817551e-01, 2.12505705e-01, 2.12917389e-01, 2.13215847e-01,\n",
       "       2.15586389e-01, 2.16566750e-01, 2.17312046e-01, 2.19651611e-01,\n",
       "       2.19985525e-01, 2.20977108e-01, 2.21426767e-01, 2.22303642e-01,\n",
       "       2.22535528e-01, 2.22901527e-01, 2.23818896e-01, 2.26074523e-01,\n",
       "       2.28175886e-01, 2.29018847e-01, 2.29351973e-01, 2.32927738e-01,\n",
       "       2.33696924e-01, 2.33703357e-01, 2.33778320e-01, 2.34077052e-01,\n",
       "       2.34376054e-01, 2.34734574e-01, 2.36084863e-01, 2.38003290e-01,\n",
       "       2.39422707e-01, 2.40179667e-01, 2.40885350e-01, 2.41690716e-01,\n",
       "       2.42529904e-01, 2.43116328e-01, 2.44689967e-01, 2.46073962e-01,\n",
       "       2.46333886e-01, 2.46676309e-01, 2.47468665e-01, 2.48156300e-01,\n",
       "       2.48197128e-01, 2.51427299e-01, 2.52610731e-01, 2.53704118e-01,\n",
       "       2.54233930e-01, 2.54612111e-01, 2.55388122e-01, 2.55471766e-01,\n",
       "       2.56866777e-01, 2.57172208e-01, 2.58184760e-01, 2.58546409e-01,\n",
       "       2.58984497e-01, 2.59307713e-01, 2.59475879e-01, 2.59780547e-01,\n",
       "       2.61379540e-01, 2.61740548e-01, 2.62197897e-01, 2.62272962e-01,\n",
       "       2.63660038e-01, 2.63701773e-01, 2.64045183e-01, 2.64645067e-01,\n",
       "       2.65870255e-01, 2.67523898e-01, 2.68114350e-01, 2.68297739e-01,\n",
       "       2.68752371e-01, 2.70231696e-01, 2.73428568e-01, 2.76639736e-01,\n",
       "       2.76731407e-01, 2.77048475e-01, 2.78842511e-01, 2.81574838e-01,\n",
       "       2.82494754e-01, 2.82640175e-01, 2.83312746e-01, 2.84810987e-01,\n",
       "       2.86949084e-01, 2.86996394e-01, 2.87946439e-01, 2.88202588e-01,\n",
       "       2.88356976e-01, 2.88804168e-01, 2.89250938e-01, 2.89317468e-01,\n",
       "       2.89817105e-01, 2.90000301e-01, 2.90153424e-01, 2.93298918e-01,\n",
       "       2.93327179e-01, 2.93896262e-01, 2.95761239e-01, 2.95923577e-01,\n",
       "       2.96490514e-01, 2.97757134e-01, 2.99460615e-01, 2.99723987e-01,\n",
       "       3.00669533e-01, 3.02993192e-01, 3.03343293e-01, 3.03666112e-01,\n",
       "       3.04619529e-01, 3.05121776e-01, 3.05158558e-01, 3.06352199e-01,\n",
       "       3.07857480e-01, 3.07890075e-01, 3.08580902e-01, 3.10978988e-01,\n",
       "       3.11540812e-01, 3.12135712e-01, 3.15654772e-01, 3.16405188e-01,\n",
       "       3.16603044e-01, 3.16765211e-01, 3.20873565e-01, 3.22447221e-01,\n",
       "       3.26926176e-01, 3.27027157e-01, 3.28002845e-01, 3.29962501e-01,\n",
       "       3.30567662e-01, 3.30994122e-01, 3.31517456e-01, 3.31908572e-01,\n",
       "       3.32172232e-01, 3.35904000e-01, 3.36452899e-01, 3.36948648e-01,\n",
       "       3.37834211e-01, 3.39830890e-01, 3.43342202e-01, 3.44525315e-01,\n",
       "       3.45460721e-01, 3.45991244e-01, 3.46374289e-01, 3.47445092e-01,\n",
       "       3.48099581e-01, 3.49312224e-01, 3.49555056e-01, 3.51348379e-01,\n",
       "       3.51640575e-01, 3.53321454e-01, 3.53935866e-01, 3.55646154e-01,\n",
       "       3.56497020e-01, 3.57218757e-01, 3.60583446e-01, 3.61347669e-01,\n",
       "       3.61704816e-01, 3.61789276e-01, 3.62833756e-01, 3.62859262e-01,\n",
       "       3.65325018e-01, 3.65802638e-01, 3.67383604e-01, 3.67598634e-01,\n",
       "       3.69085169e-01, 3.69251099e-01, 3.69809636e-01, 3.70628404e-01,\n",
       "       3.71057084e-01, 3.74108915e-01, 3.75814984e-01, 3.76507368e-01,\n",
       "       3.77089634e-01, 3.77813437e-01, 3.79009607e-01, 3.79418771e-01,\n",
       "       3.79605465e-01, 3.80072742e-01, 3.80646266e-01, 3.81153462e-01,\n",
       "       3.82911485e-01, 3.86660753e-01, 3.88078966e-01, 3.89632936e-01,\n",
       "       3.90557439e-01, 3.90835926e-01, 3.91471782e-01, 3.91781258e-01,\n",
       "       3.93145917e-01, 3.95078341e-01, 3.95214010e-01, 3.95216946e-01,\n",
       "       3.95464612e-01, 3.96852828e-01, 3.97640361e-01, 3.97807197e-01,\n",
       "       3.99085280e-01, 4.00560569e-01, 4.02013956e-01, 4.02076877e-01,\n",
       "       4.02393276e-01, 4.02767983e-01, 4.02800637e-01, 4.02918125e-01,\n",
       "       4.03284717e-01, 4.03574054e-01, 4.03828216e-01, 4.04084402e-01,\n",
       "       4.04206859e-01, 4.04980226e-01, 4.06349925e-01, 4.08457509e-01,\n",
       "       4.08758581e-01, 4.10232303e-01, 4.12315024e-01, 4.12697209e-01,\n",
       "       4.12930214e-01, 4.16369957e-01, 4.17671295e-01, 4.18412514e-01,\n",
       "       4.20155009e-01, 4.20988810e-01, 4.21019318e-01, 4.24111283e-01,\n",
       "       4.24285451e-01, 4.24707214e-01, 4.28671756e-01, 4.29141115e-01,\n",
       "       4.30822487e-01, 4.32513677e-01, 4.33673090e-01, 4.33724514e-01,\n",
       "       4.34990392e-01, 4.36588887e-01, 4.39735546e-01, 4.39994085e-01,\n",
       "       4.41686968e-01, 4.42660487e-01, 4.43287917e-01, 4.45613779e-01,\n",
       "       4.46921679e-01, 4.46953277e-01, 4.47086699e-01, 4.47267178e-01,\n",
       "       4.47720147e-01, 4.48033525e-01, 4.48076860e-01, 4.48160569e-01,\n",
       "       4.48741913e-01, 4.48779154e-01, 4.49375817e-01, 4.49857593e-01,\n",
       "       4.50303387e-01, 4.50981650e-01, 4.52340721e-01, 4.52717611e-01,\n",
       "       4.52842926e-01, 4.55369220e-01, 4.58937138e-01, 4.59720029e-01,\n",
       "       4.60723668e-01, 4.60903610e-01, 4.62566520e-01, 4.63507203e-01,\n",
       "       4.65055062e-01, 4.65129627e-01, 4.65453081e-01, 4.65656385e-01,\n",
       "       4.67201358e-01, 4.67716731e-01, 4.68092324e-01, 4.68224219e-01,\n",
       "       4.68563284e-01, 4.69475775e-01, 4.69757053e-01, 4.71100285e-01,\n",
       "       4.72456163e-01, 4.72838561e-01, 4.74309125e-01, 4.74415955e-01,\n",
       "       4.75910568e-01, 4.77948105e-01, 4.79056527e-01, 4.79810024e-01,\n",
       "       4.80186871e-01, 4.80193660e-01, 4.80989358e-01, 4.83107523e-01,\n",
       "       4.83531959e-01, 4.86504927e-01, 4.87840089e-01, 4.88049674e-01,\n",
       "       4.88640433e-01, 4.88834768e-01, 4.89415280e-01, 4.89621180e-01,\n",
       "       4.90316368e-01, 4.90346540e-01, 4.91377119e-01, 4.93545301e-01,\n",
       "       4.93789019e-01, 4.94019641e-01, 4.94504226e-01, 4.94524279e-01,\n",
       "       4.95889679e-01, 4.96036217e-01, 4.96207888e-01, 4.96358133e-01,\n",
       "       4.97046790e-01, 4.99693712e-01, 5.00514286e-01, 5.02444180e-01,\n",
       "       5.03315530e-01, 5.04125965e-01, 5.04203801e-01, 5.09449219e-01,\n",
       "       5.09965095e-01, 5.10769181e-01, 5.11079272e-01, 5.11355719e-01,\n",
       "       5.13342167e-01, 5.13684658e-01, 5.14701037e-01, 5.15558357e-01,\n",
       "       5.15959956e-01, 5.15982458e-01, 5.16046225e-01, 5.18908612e-01,\n",
       "       5.19226968e-01, 5.20353411e-01, 5.21856761e-01, 5.22180161e-01,\n",
       "       5.24797864e-01, 5.25039127e-01, 5.25443589e-01, 5.26236053e-01,\n",
       "       5.27239297e-01, 5.28381136e-01, 5.28684116e-01, 5.29135527e-01,\n",
       "       5.29363312e-01, 5.31562406e-01, 5.35535239e-01, 5.36734022e-01,\n",
       "       5.36746726e-01, 5.36943936e-01, 5.37372521e-01, 5.37676916e-01,\n",
       "       5.37730786e-01, 5.38294093e-01, 5.39411645e-01, 5.39664455e-01,\n",
       "       5.40998869e-01, 5.41003831e-01, 5.41304393e-01, 5.41681954e-01,\n",
       "       5.43126888e-01, 5.43615486e-01, 5.45156261e-01, 5.45851590e-01,\n",
       "       5.45923488e-01, 5.46799000e-01, 5.49155637e-01, 5.49481979e-01,\n",
       "       5.49946048e-01, 5.50598091e-01, 5.50681901e-01, 5.50851347e-01,\n",
       "       5.52507257e-01, 5.53470663e-01, 5.54372892e-01, 5.54421431e-01,\n",
       "       5.54765510e-01, 5.56359758e-01, 5.57307334e-01, 5.58615331e-01,\n",
       "       5.59251072e-01, 5.59773836e-01, 5.62208826e-01, 5.64018234e-01,\n",
       "       5.66197124e-01, 5.66257451e-01, 5.66378828e-01, 5.67918549e-01,\n",
       "       5.68041234e-01, 5.68476595e-01, 5.70056899e-01, 5.70629883e-01,\n",
       "       5.72018017e-01, 5.72113256e-01, 5.75162377e-01, 5.75755808e-01,\n",
       "       5.75757772e-01, 5.77822693e-01, 5.78084589e-01, 5.79901780e-01,\n",
       "       5.82479207e-01, 5.83714812e-01, 5.83866517e-01, 5.83915630e-01,\n",
       "       5.84989369e-01, 5.86429351e-01, 5.86962247e-01, 5.87896786e-01,\n",
       "       5.88785381e-01, 5.90464473e-01, 5.90830886e-01, 5.91940501e-01,\n",
       "       5.91982526e-01, 5.92786171e-01, 5.95286308e-01, 5.95849637e-01,\n",
       "       5.96977564e-01, 5.98279952e-01, 5.99162176e-01, 5.99282221e-01,\n",
       "       5.99946879e-01, 6.00253953e-01, 6.02337724e-01, 6.02833941e-01,\n",
       "       6.05721740e-01, 6.10212257e-01, 6.10406358e-01, 6.10435954e-01,\n",
       "       6.10556096e-01, 6.10826862e-01, 6.10828809e-01, 6.12955681e-01,\n",
       "       6.13143257e-01, 6.13315654e-01, 6.13445484e-01, 6.15747811e-01,\n",
       "       6.17281627e-01, 6.17311847e-01, 6.17533290e-01, 6.18898134e-01,\n",
       "       6.20077467e-01, 6.20206565e-01, 6.20472148e-01, 6.21022045e-01,\n",
       "       6.24135880e-01, 6.24206808e-01, 6.27258263e-01, 6.29911770e-01,\n",
       "       6.32039530e-01, 6.32283289e-01, 6.32295196e-01, 6.32745263e-01,\n",
       "       6.35482323e-01, 6.35484056e-01, 6.37479527e-01, 6.38160719e-01,\n",
       "       6.38461884e-01, 6.38538331e-01, 6.39165878e-01, 6.39298207e-01,\n",
       "       6.39628402e-01, 6.39999457e-01, 6.43739605e-01, 6.44210587e-01,\n",
       "       6.45156140e-01, 6.45738761e-01, 6.47374638e-01, 6.48029182e-01,\n",
       "       6.48948269e-01, 6.49524957e-01, 6.50237984e-01, 6.53671544e-01,\n",
       "       6.54156427e-01, 6.54378484e-01, 6.54517833e-01, 6.55383257e-01,\n",
       "       6.56552818e-01, 6.56660527e-01, 6.56799106e-01, 6.56979382e-01,\n",
       "       6.58212853e-01, 6.58599780e-01, 6.58988409e-01, 6.60014949e-01,\n",
       "       6.60211164e-01, 6.60222825e-01, 6.61799492e-01, 6.62752667e-01,\n",
       "       6.63418526e-01, 6.63504638e-01, 6.63807764e-01, 6.65028687e-01,\n",
       "       6.65399533e-01, 6.66003189e-01, 6.66089008e-01, 6.66429294e-01,\n",
       "       6.66528331e-01, 6.67654721e-01, 6.67676254e-01, 6.68439014e-01,\n",
       "       6.70660973e-01, 6.70804105e-01, 6.71594728e-01, 6.74247975e-01,\n",
       "       6.75040824e-01, 6.78376975e-01, 6.78563671e-01, 6.79591155e-01,\n",
       "       6.80560821e-01, 6.81498121e-01, 6.81897090e-01, 6.83325842e-01,\n",
       "       6.85400928e-01, 6.85624306e-01, 6.86360369e-01, 6.86505867e-01,\n",
       "       6.86712917e-01, 6.86947377e-01, 6.86969184e-01, 6.87057019e-01,\n",
       "       6.88039034e-01, 6.91574988e-01, 6.92187037e-01, 6.92569517e-01,\n",
       "       6.95956217e-01, 6.96109591e-01, 6.99102212e-01, 6.99220861e-01,\n",
       "       7.01438575e-01, 7.02292477e-01, 7.02963943e-01, 7.06648110e-01,\n",
       "       7.06902281e-01, 7.08247790e-01, 7.09321260e-01, 7.10085825e-01,\n",
       "       7.10099366e-01, 7.11033111e-01, 7.11490558e-01, 7.12312654e-01,\n",
       "       7.13900497e-01, 7.15774885e-01, 7.16692435e-01, 7.18296434e-01,\n",
       "       7.18456632e-01, 7.18640080e-01, 7.19208198e-01, 7.20740190e-01,\n",
       "       7.20999819e-01, 7.21506838e-01, 7.22431289e-01, 7.22976787e-01,\n",
       "       7.23588737e-01, 7.27545179e-01, 7.28438206e-01, 7.28500887e-01,\n",
       "       7.33595259e-01, 7.37604422e-01, 7.37795772e-01, 7.39325977e-01,\n",
       "       7.39639962e-01, 7.39687733e-01, 7.40054522e-01, 7.40559426e-01,\n",
       "       7.41428262e-01, 7.44410717e-01, 7.44598605e-01, 7.44640164e-01,\n",
       "       7.46273426e-01, 7.46344575e-01, 7.47110202e-01, 7.49159102e-01,\n",
       "       7.50593588e-01, 7.52076672e-01, 7.52081113e-01, 7.53059361e-01,\n",
       "       7.53285721e-01, 7.54623974e-01, 7.55821498e-01, 7.55916543e-01,\n",
       "       7.56845918e-01, 7.57905902e-01, 7.60949699e-01, 7.61441530e-01,\n",
       "       7.61486329e-01, 7.61743747e-01, 7.62499679e-01, 7.62591205e-01,\n",
       "       7.64642502e-01, 7.65521511e-01, 7.67886615e-01, 7.68431770e-01,\n",
       "       7.68905288e-01, 7.69288784e-01, 7.70313915e-01, 7.70520527e-01,\n",
       "       7.71129586e-01, 7.71258608e-01, 7.72543749e-01, 7.73115358e-01,\n",
       "       7.74459907e-01, 7.75890614e-01, 7.76151053e-01, 7.77457755e-01,\n",
       "       7.80944325e-01, 7.81353820e-01, 7.83437199e-01, 7.88235689e-01,\n",
       "       7.88358139e-01, 7.89350281e-01, 7.91792737e-01, 7.92950174e-01,\n",
       "       7.93209493e-01, 7.94306151e-01, 7.95428242e-01, 7.97152933e-01,\n",
       "       8.00174377e-01, 8.06084318e-01, 8.07842773e-01, 8.07883672e-01,\n",
       "       8.08574955e-01, 8.09751082e-01, 8.09790008e-01, 8.09961526e-01,\n",
       "       8.10344868e-01, 8.10635795e-01, 8.12158443e-01, 8.13793866e-01,\n",
       "       8.14521725e-01, 8.16123909e-01, 8.16459440e-01, 8.17544759e-01,\n",
       "       8.17562184e-01, 8.17714766e-01, 8.18060197e-01, 8.19652573e-01,\n",
       "       8.20563422e-01, 8.20669951e-01, 8.23919966e-01, 8.24479875e-01,\n",
       "       8.25043301e-01, 8.25752648e-01, 8.25871339e-01, 8.27948149e-01,\n",
       "       8.30737333e-01, 8.32656738e-01, 8.34281390e-01, 8.34303636e-01,\n",
       "       8.35180550e-01, 8.35682128e-01, 8.37383591e-01, 8.37388354e-01,\n",
       "       8.38252941e-01, 8.38401190e-01, 8.38932080e-01, 8.40309203e-01,\n",
       "       8.40721090e-01, 8.40740015e-01, 8.40900285e-01, 8.43380221e-01,\n",
       "       8.43490486e-01, 8.44055135e-01, 8.44075651e-01, 8.46903084e-01,\n",
       "       8.48305952e-01, 8.48710134e-01, 8.49324912e-01, 8.49575134e-01,\n",
       "       8.50975887e-01, 8.53197818e-01, 8.53568651e-01, 8.53974318e-01,\n",
       "       8.54098973e-01, 8.55891517e-01, 8.57458330e-01, 8.58092150e-01,\n",
       "       8.60179741e-01, 8.61015198e-01, 8.62993327e-01, 8.63769342e-01,\n",
       "       8.65177589e-01, 8.66067316e-01, 8.66553432e-01, 8.66816319e-01,\n",
       "       8.67147576e-01, 8.67294072e-01, 8.67436765e-01, 8.68734712e-01,\n",
       "       8.69049853e-01, 8.69775932e-01, 8.69839895e-01, 8.70636706e-01,\n",
       "       8.71638795e-01, 8.71685666e-01, 8.73910966e-01, 8.74295953e-01,\n",
       "       8.74968925e-01, 8.75783518e-01, 8.76587851e-01, 8.76871745e-01,\n",
       "       8.79104728e-01, 8.81486878e-01, 8.85988614e-01, 8.86564157e-01,\n",
       "       8.87818707e-01, 8.90101641e-01, 8.92054706e-01, 8.92209383e-01,\n",
       "       8.93747451e-01, 8.93788451e-01, 8.94563946e-01, 8.98620620e-01,\n",
       "       8.99439916e-01, 8.99491405e-01, 9.01047773e-01, 9.01312775e-01,\n",
       "       9.01640497e-01, 9.01827849e-01, 9.06911282e-01, 9.08764629e-01,\n",
       "       9.09122093e-01, 9.11637015e-01, 9.13289619e-01, 9.13620796e-01,\n",
       "       9.15003717e-01, 9.15187753e-01, 9.17849005e-01, 9.18340370e-01,\n",
       "       9.18427059e-01, 9.18623423e-01, 9.19156669e-01, 9.19299611e-01,\n",
       "       9.19453048e-01, 9.20012701e-01, 9.21362882e-01, 9.21868082e-01,\n",
       "       9.22983585e-01, 9.23547659e-01, 9.24464919e-01, 9.25231078e-01,\n",
       "       9.27536361e-01, 9.28565637e-01, 9.31988904e-01, 9.33350631e-01,\n",
       "       9.33704955e-01, 9.33752661e-01, 9.35635628e-01, 9.36222166e-01,\n",
       "       9.36553544e-01, 9.37198230e-01, 9.39931823e-01, 9.40370637e-01,\n",
       "       9.40927081e-01, 9.40982749e-01, 9.42671229e-01, 9.43157177e-01,\n",
       "       9.43182495e-01, 9.43977652e-01, 9.45292289e-01, 9.45344367e-01,\n",
       "       9.45371394e-01, 9.46200377e-01, 9.47660632e-01, 9.48902040e-01,\n",
       "       9.49294228e-01, 9.49922557e-01, 9.50933009e-01, 9.52130834e-01,\n",
       "       9.52299828e-01, 9.52502243e-01, 9.52836708e-01, 9.53070571e-01,\n",
       "       9.53316220e-01, 9.53500515e-01, 9.55284137e-01, 9.56820853e-01,\n",
       "       9.57539695e-01, 9.63907269e-01, 9.64557575e-01, 9.65380322e-01,\n",
       "       9.66846392e-01, 9.70037109e-01, 9.70537439e-01, 9.71382269e-01,\n",
       "       9.71648088e-01, 9.72184339e-01, 9.72754665e-01, 9.73506848e-01,\n",
       "       9.74367977e-01, 9.74540451e-01, 9.75307689e-01, 9.75385318e-01,\n",
       "       9.75963421e-01, 9.79082094e-01, 9.79531716e-01, 9.79931652e-01,\n",
       "       9.80088706e-01, 9.80728291e-01, 9.80890683e-01, 9.81702927e-01,\n",
       "       9.82543590e-01, 9.85847104e-01, 9.87287991e-01, 9.88045742e-01,\n",
       "       9.89871828e-01, 9.90373769e-01, 9.90889527e-01, 9.91432552e-01,\n",
       "       9.91675370e-01, 9.92513695e-01, 9.93939489e-01, 9.96873657e-01,\n",
       "       9.96953745e-01, 9.97671168e-01, 9.97897702e-01, 9.98146118e-01])"
      ]
     },
     "execution_count": 9,
     "metadata": {},
     "output_type": "execute_result"
    }
   ],
   "source": [
    "r = sorted(stats.norm.rvs(loc=67, scale=4, size=1000))\n",
    "stats.norm.cdf(r, loc=67, scale=4)"
   ]
  },
  {
   "cell_type": "code",
   "execution_count": 40,
   "metadata": {
    "hidden": true
   },
   "outputs": [
    {
     "data": {
      "image/png": "[encoded data removed]",
      "text/plain": [
       "<Figure size 720x360 with 2 Axes>"
      ]
     },
     "metadata": {
      "needs_background": "light"
     },
     "output_type": "display_data"
    }
   ],
   "source": [
    "r = sorted(stats.norm.rvs(loc=67, scale=4, size=1000))\n",
    "r_cdf = stats.norm.cdf(r, loc=67, scale=4)\n",
    "fig, (ax1, ax2) = plt.subplots(1, 2, figsize=(10, 5))\n",
    "sns.kdeplot(r, ax=ax1, shade=True)\n",
    "ax1.set_title('PDF of Height in US')\n",
    "\n",
    "ax2.plot(r, r_cdf, color='g')\n",
    "ax2.set_title('CDF of Height in the US');"
   ]
  },
  {
   "cell_type": "markdown",
   "metadata": {
    "hidden": true
   },
   "source": [
    "If we provide `numpy` with the underlying parameters of our distribution, we can calculate:"
   ]
  },
  {
   "cell_type": "code",
   "execution_count": 11,
   "metadata": {
    "hidden": true
   },
   "outputs": [
    {
     "data": {
      "text/plain": [
       "0.9331927987311419"
      ]
     },
     "execution_count": 11,
     "metadata": {},
     "output_type": "execute_result"
    }
   ],
   "source": [
    "# the probability that a value falls below a specified value\n",
    "r = stats.norm(67, 4)\n",
    "r.cdf(73)"
   ]
  },
  {
   "cell_type": "code",
   "execution_count": 12,
   "metadata": {
    "hidden": true
   },
   "outputs": [
    {
     "data": {
      "text/plain": [
       "0.4772498680518208"
      ]
     },
     "execution_count": 12,
     "metadata": {},
     "output_type": "execute_result"
    }
   ],
   "source": [
    "# the probability that a value falls between two specified values\n",
    "r = stats.norm(67, 4)\n",
    "r.cdf(75) - r.cdf(67)"
   ]
  },
  {
   "cell_type": "markdown",
   "metadata": {
    "hidden": true
   },
   "source": [
    "We can also calculate the value associated with a specfic percentile:"
   ]
  },
  {
   "cell_type": "code",
   "execution_count": 13,
   "metadata": {
    "hidden": true
   },
   "outputs": [
    {
     "data": {
      "text/plain": [
       "73.5794145078059"
      ]
     },
     "execution_count": 13,
     "metadata": {},
     "output_type": "execute_result"
    }
   ],
   "source": [
    "r.ppf(0.95)"
   ]
  },
  {
   "cell_type": "markdown",
   "metadata": {
    "heading_collapsed": true
   },
   "source": [
    "# Exercises"
   ]
  },
  {
   "cell_type": "markdown",
   "metadata": {
    "heading_collapsed": true,
    "hidden": true
   },
   "source": [
    "## Order Totals CDF & PDF"
   ]
  },
  {
   "cell_type": "markdown",
   "metadata": {
    "hidden": true
   },
   "source": [
    "Imagine that an online clothing business gets orders with totals that are normally distributed with an average of \\\\$95 and a standard deviation of \\\\$18. **Graph the PDF and CDF** for the orders for this business. "
   ]
  },
  {
   "cell_type": "code",
   "execution_count": 41,
   "metadata": {
    "hidden": true
   },
   "outputs": [
    {
     "data": {
      "image/png": "[encoded data removed]",
      "text/plain": [
       "<Figure size 720x360 with 2 Axes>"
      ]
     },
     "metadata": {
      "needs_background": "light"
     },
     "output_type": "display_data"
    }
   ],
   "source": [
    "orders = sorted(stats.norm.rvs(loc=95, scale=18, size=1000))\n",
    "cdf = stats.norm.cdf(orders, loc=95, scale=18)\n",
    "fig, (ax1, ax2) = plt.subplots(1, 2, figsize=(10, 5))\n",
    "sns.kdeplot(orders, ax=ax1, shade=True)\n",
    "ax1.set_title('PDF of Order totals')\n",
    "\n",
    "ax2.plot(orders, cdf, color='g')\n",
    "ax2.set_title('CDF of Order Totals');"
   ]
  },
  {
   "cell_type": "markdown",
   "metadata": {
    "heading_collapsed": true,
    "hidden": true
   },
   "source": [
    "## Order Totals Observations"
   ]
  },
  {
   "cell_type": "code",
   "execution_count": 15,
   "metadata": {},
   "outputs": [
    {
     "data": {
      "text/plain": [
       "145.575985342134"
      ]
     },
     "execution_count": 15,
     "metadata": {},
     "output_type": "execute_result"
    }
   ],
   "source": [
    "orders[-1]"
   ]
  },
  {
   "cell_type": "code",
   "execution_count": 16,
   "metadata": {},
   "outputs": [
    {
     "data": {
      "text/plain": [
       "29.65611498875272"
      ]
     },
     "execution_count": 16,
     "metadata": {},
     "output_type": "execute_result"
    }
   ],
   "source": [
    "orders[0]"
   ]
  },
  {
   "cell_type": "markdown",
   "metadata": {
    "hidden": true
   },
   "source": [
    "After graphing, **write 1-3 observations** about the distributions of order totals based on these graphs."
   ]
  },
  {
   "cell_type": "markdown",
   "metadata": {
    "hidden": true
   },
   "source": [
    "**Your Observations**\n",
    "\n",
    "Observation 1: \n",
    "\n",
    "Observation 2: \n",
    "\n",
    "Observation 3:\n"
   ]
  },
  {
   "cell_type": "markdown",
   "metadata": {
    "heading_collapsed": true
   },
   "source": [
    "# Level Up: Details on Expected Value and Variance"
   ]
  },
  {
   "cell_type": "markdown",
   "metadata": {
    "heading_collapsed": true,
    "hidden": true
   },
   "source": [
    "## For PMF - Discrete Values"
   ]
  },
  {
   "cell_type": "markdown",
   "metadata": {
    "heading_collapsed": true,
    "hidden": true
   },
   "source": [
    "### Expected Value/Mean"
   ]
  },
  {
   "cell_type": "markdown",
   "metadata": {
    "hidden": true
   },
   "source": [
    "The expected value, or the mean, describes the 'center' of the distribution (you may hear this called the first moment).  The 'center' refers loosely to the middle-values of a distribution, and is measured more precisely by notions like the mean, the median, and the mode.\n",
    "\n",
    "For a discrete distribution, working from the vantage point of a collected sample of n data points:\n",
    "\n",
    "mean = $\\Large\\mu = \\frac{\\Sigma^n_{i = 1}x_i}{n}$\n",
    "\n",
    "If we are working from the vantage point of known probabilities, the mean is referred to as the expected value. The expected value of a discrete distribution is the weighted sum of all values of x, where the weight is their probability.\n",
    " \n",
    "The expected value of the Lotto example is:\n",
    "${\\displaystyle \\operatorname {E} [X]= \\Sigma^n_{i=1}p(x_i)x_i}$"
   ]
  },
  {
   "cell_type": "markdown",
   "metadata": {
    "heading_collapsed": true,
    "hidden": true
   },
   "source": [
    "### Variance/Standard Deviation"
   ]
  },
  {
   "cell_type": "markdown",
   "metadata": {
    "hidden": true
   },
   "source": [
    "Variance describes the spread of the data (it is also referred to as the second moment).  The 'spread' refers loosely to how far away the more extreme values are from the center.\n",
    "\n",
    "Standard deviation is the square root of variance, and effectively measures the *average distance away from the mean*.\n",
    "\n",
    "From the standpoint of a sample, the variance of a discrete distribution of n data points is:\n",
    "\n",
    "std = $\\Large\\sigma = \\sqrt{\\frac{\\Sigma^n_{i = 1}(x_i - \\mu)^2}{n}}$\n",
    "\n",
    "\n",
    "Variance is the expectation of the squared deviation of a random variable from its mean.\n",
    "\n",
    "For our Lotto PMF, that means:\n",
    "\n",
    " $ \\Large E((X-\\mu)^2) = \\sigma^2 = \\Sigma^n_{i=1}p(x_i)(x_i - \\mu)^2$"
   ]
  },
  {
   "cell_type": "markdown",
   "metadata": {
    "heading_collapsed": true,
    "hidden": true
   },
   "source": [
    "## For PDF - Continuous Values"
   ]
  },
  {
   "cell_type": "markdown",
   "metadata": {
    "hidden": true
   },
   "source": [
    "![](images/exp_v_pdf.png)"
   ]
  },
  {
   "cell_type": "markdown",
   "metadata": {
    "heading_collapsed": true
   },
   "source": [
    "# Level Up: CDF Use Cases"
   ]
  },
  {
   "cell_type": "markdown",
   "metadata": {
    "hidden": true
   },
   "source": [
    "You might look at the CDF and wonder if it's a shadow of my beloved histogram. But there are some good use cases for this way of visualizing the CDF"
   ]
  },
  {
   "cell_type": "code",
   "execution_count": 52,
   "metadata": {
    "hidden": true
   },
   "outputs": [
    {
     "data": {
      "text/plain": [
       "(100,)"
      ]
     },
     "execution_count": 52,
     "metadata": {},
     "output_type": "execute_result"
    }
   ],
   "source": [
    "# First let's define some data\n",
    "domain_x = np.linspace(-1,1,100)\n",
    "norm_dist = stats.norm.rvs(0,0.3,domain_x.shape)\n",
    "norm_dist.shape"
   ]
  },
  {
   "cell_type": "code",
   "execution_count": 55,
   "metadata": {},
   "outputs": [
    {
     "data": {
      "text/plain": [
       "<AxesSubplot:ylabel='Count'>"
      ]
     },
     "execution_count": 55,
     "metadata": {},
     "output_type": "execute_result"
    },
    {
     "data": {
      "image/png": "[encoded data removed]",
      "text/plain": [
       "<Figure size 432x288 with 1 Axes>"
      ]
     },
     "metadata": {
      "needs_background": "light"
     },
     "output_type": "display_data"
    }
   ],
   "source": [
    "sns.histplot(x=norm_dist, bins= 30)"
   ]
  },
  {
   "cell_type": "markdown",
   "metadata": {
    "heading_collapsed": true,
    "hidden": true
   },
   "source": [
    "## Quickly identify key values"
   ]
  },
  {
   "cell_type": "markdown",
   "metadata": {
    "hidden": true
   },
   "source": [
    "Finding features like the median, minimum, maximum, and quartiles are easy to read"
   ]
  },
  {
   "cell_type": "code",
   "execution_count": 18,
   "metadata": {
    "hidden": true
   },
   "outputs": [
    {
     "data": {
      "text/plain": [
       "<matplotlib.collections.LineCollection at 0x7fbd5d506dc0>"
      ]
     },
     "execution_count": 18,
     "metadata": {},
     "output_type": "execute_result"
    },
    {
     "data": {
      "image/png": "[encoded data removed]",
      "text/plain": [
       "<Figure size 864x288 with 2 Axes>"
      ]
     },
     "metadata": {
      "needs_background": "light"
     },
     "output_type": "display_data"
    }
   ],
   "source": [
    "f,(ax_pdf,ax_cdf) = plt.subplots(nrows=1,ncols=2,figsize=(12,4))\n",
    "\n",
    "###### Histogram (PDF)\n",
    "ax_pdf = sns.histplot(x=norm_dist, ax=ax_pdf, alpha=0.4)\n",
    "# You can also see the PDF if you want\n",
    "# ax_pdf = sns.kdeplot(x=out, cumulative=False, ax=ax_pdf)\n",
    "# Median\n",
    "ax_pdf.vlines(\n",
    "    x=np.median(norm_dist),\n",
    "    ymin=0,\n",
    "    ymax=10,\n",
    "    linestyles='--',\n",
    "    color='red'      \n",
    ")\n",
    "# 25th-percentile\n",
    "ax_pdf.vlines(\n",
    "    x=np.quantile(norm_dist, 0.25),\n",
    "    ymin=0,\n",
    "    ymax=10,\n",
    "    linestyles='--',\n",
    "    color='purple'      \n",
    ")\n",
    "# 75th-percentile\n",
    "ax_pdf.vlines(\n",
    "    x=np.quantile(norm_dist, 0.75),\n",
    "    ymin=0,\n",
    "    ymax=10,\n",
    "    linestyles='--',\n",
    "    color='purple'      \n",
    ")\n",
    "\n",
    "###### CDF\n",
    "ax_cdf = sns.kdeplot(x=norm_dist, cumulative=True, ax=ax_cdf)\n",
    "# Median\n",
    "ax_cdf.hlines(\n",
    "    y=0.5,\n",
    "    xmin=-1,\n",
    "    xmax=1,\n",
    "    linestyles='--',\n",
    "    color='red'\n",
    ")\n",
    "# 25th-percentile\n",
    "ax_cdf.hlines(\n",
    "    y=0.25,\n",
    "    xmin=-1,\n",
    "    xmax=1,\n",
    "    linestyles='--',\n",
    "    color='purple'\n",
    ")\n",
    "# 75th-percentile\n",
    "ax_cdf.hlines(\n",
    "    y=0.75,\n",
    "    xmin=-1,\n",
    "    xmax=1,\n",
    "    linestyles='--',\n",
    "    color='purple'\n",
    ")"
   ]
  },
  {
   "cell_type": "markdown",
   "metadata": {
    "heading_collapsed": true,
    "hidden": true
   },
   "source": [
    "## Outliers can be more obvious"
   ]
  },
  {
   "cell_type": "markdown",
   "metadata": {
    "hidden": true
   },
   "source": [
    "Visualizations with outliers can be a little tricky. Take a look at your histogram. With outliers, it might be identified but can distort our focus."
   ]
  },
  {
   "cell_type": "code",
   "execution_count": 19,
   "metadata": {
    "hidden": true
   },
   "outputs": [
    {
     "data": {
      "text/plain": [
       "array([ 2.65652280e-01,  1.16662745e-01, -4.78908881e-01,  2.23262392e-01,\n",
       "       -2.27853988e-01,  1.44574757e-01, -1.30911377e-01, -4.29487676e-02,\n",
       "        4.24866078e-02, -2.59473858e-02, -1.16532413e-01, -2.61029658e-02,\n",
       "        1.68576661e-01,  2.88810906e-01, -7.53038505e-01,  1.90517944e-01,\n",
       "        9.21794354e-01,  4.21601210e-01, -4.23772704e-01,  7.98779477e-03,\n",
       "        3.18633634e-01,  4.15241893e-01,  1.81046991e-01,  3.32479207e-02,\n",
       "       -4.61550186e-02, -1.37702836e-01,  3.83283774e-01, -1.56314627e-01,\n",
       "       -6.50967150e-02, -1.81460551e-01, -2.73752348e-01,  3.78898503e-01,\n",
       "        6.08998665e-02,  1.48610463e-01,  4.82609443e-01,  9.75680805e-03,\n",
       "       -1.54454975e-02,  1.87519702e-01,  3.63708105e-01,  3.58202560e-01,\n",
       "       -1.71127211e-01, -1.43943358e-01, -6.84814355e-02,  1.21782915e-01,\n",
       "       -3.52167016e-01, -4.85755291e-03,  1.97810757e-01,  3.14019743e-02,\n",
       "        9.26711419e-02, -2.78549008e-01, -1.29812090e-01,  7.80235333e-02,\n",
       "        1.25240100e-01,  5.96618133e-01,  2.18451421e-01,  2.63291675e-01,\n",
       "       -5.49563716e-01, -2.45186767e-01,  2.12244480e-01,  1.10165890e-01,\n",
       "       -1.48586823e-01,  1.35781777e-01,  9.78234827e-02, -8.77998240e-02,\n",
       "        4.12463261e-01,  3.94216945e-01,  2.61567307e-01,  1.35389043e-01,\n",
       "        1.01500127e-01, -5.23486116e-02,  6.92017697e-02, -2.98346758e-01,\n",
       "        3.21566360e-02,  9.06703116e-02,  1.44143043e-01, -9.99559145e-02,\n",
       "       -1.61393506e-01,  3.71561661e-01, -6.56843122e-01, -5.83945503e-02,\n",
       "        3.24928613e-01,  7.25713397e-02,  1.63491530e-01, -3.66935746e-02,\n",
       "        4.30945460e-01, -1.78481405e-01, -2.59644181e-01, -1.23466141e-01,\n",
       "        6.10009970e-01,  2.22940910e-01, -2.30310593e-01, -3.77857913e-03,\n",
       "       -1.24064930e-01, -2.13140469e-01,  2.81713810e-01, -2.09781018e-01,\n",
       "        1.90182045e-01, -3.70538899e-01, -1.95566346e-01, -8.72206340e-02,\n",
       "        4.79147601e-01,  3.20959131e-01,  5.46038491e-01,  3.33366763e+00,\n",
       "        6.89521839e+00])"
      ]
     },
     "execution_count": 19,
     "metadata": {},
     "output_type": "execute_result"
    }
   ],
   "source": [
    "# Add an outlier\n",
    "norm_with_outliers = np.append(norm_dist, 5*np.abs(np.random.randn(5)))\n",
    "norm_with_outliers"
   ]
  },
  {
   "cell_type": "code",
   "execution_count": 20,
   "metadata": {
    "hidden": true
   },
   "outputs": [
    {
     "data": {
      "text/plain": [
       "(-1.1354513502193841, 1.0)"
      ]
     },
     "execution_count": 20,
     "metadata": {},
     "output_type": "execute_result"
    },
    {
     "data": {
      "image/png": "[encoded data removed]",
      "text/plain": [
       "<Figure size 864x288 with 2 Axes>"
      ]
     },
     "metadata": {
      "needs_background": "light"
     },
     "output_type": "display_data"
    }
   ],
   "source": [
    "f,(ax0,ax1) = plt.subplots(1,2, figsize=(12,4))\n",
    "# Showing the outliers\n",
    "sns.histplot(x=norm_with_outliers, alpha=0.4, ax=ax0)\n",
    "# Ignoring outliers\n",
    "ax1=sns.histplot(x=norm_with_outliers, alpha=0.4, ax=ax1)\n",
    "ax1.set_xlim(right=1.)"
   ]
  },
  {
   "cell_type": "markdown",
   "metadata": {
    "hidden": true
   },
   "source": [
    "In a worst-case, you might not notice the outliers because it gets swallowed up due by a bin because of the number of bins or bin width parameter"
   ]
  },
  {
   "cell_type": "markdown",
   "metadata": {
    "hidden": true
   },
   "source": [
    "Now using a CDF, it can be a lot easier to identify when there is an extreme value even if we scale the $x$-axis."
   ]
  },
  {
   "cell_type": "code",
   "execution_count": 21,
   "metadata": {
    "hidden": true
   },
   "outputs": [
    {
     "data": {
      "text/plain": [
       "(-2.1596060440155, 1.0)"
      ]
     },
     "execution_count": 21,
     "metadata": {},
     "output_type": "execute_result"
    },
    {
     "data": {
      "image/png": "[encoded data removed]",
      "text/plain": [
       "<Figure size 864x288 with 2 Axes>"
      ]
     },
     "metadata": {
      "needs_background": "light"
     },
     "output_type": "display_data"
    }
   ],
   "source": [
    "f,(ax0,ax1) = plt.subplots(1,2, figsize=(12,4))\n",
    "# Showing the outliers\n",
    "ax0 = sns.kdeplot(x=norm_with_outliers, cumulative=True, ax=ax0)\n",
    "ax0.hlines(1,xmin=-1,xmax=3,color='red',linestyles='--')\n",
    "# Ignoring outliers\n",
    "ax1 = sns.kdeplot(x=norm_with_outliers, cumulative=True, ax=ax1)\n",
    "ax1.hlines(1,xmin=-1,xmax=1,color='red',linestyles='--')\n",
    "ax1.set_xlim(right=1.)"
   ]
  },
  {
   "cell_type": "markdown",
   "metadata": {
    "heading_collapsed": true,
    "hidden": true
   },
   "source": [
    "## Identifying clusters"
   ]
  },
  {
   "cell_type": "markdown",
   "metadata": {
    "hidden": true
   },
   "source": [
    "Typically not hard with a histogram. But you can also see it in CDFs!"
   ]
  },
  {
   "cell_type": "code",
   "execution_count": 22,
   "metadata": {
    "hidden": true
   },
   "outputs": [],
   "source": [
    "domain_x = np.linspace(-1,1,100)\n",
    "norm_dist0 = stats.norm.rvs(0,0.3,domain_x.shape)\n",
    "norm_dist1 = stats.norm.rvs(2,0.2,domain_x.shape)\n",
    "two_dist = np.append(norm_dist0,norm_dist1)"
   ]
  },
  {
   "cell_type": "code",
   "execution_count": 23,
   "metadata": {
    "hidden": true
   },
   "outputs": [
    {
     "data": {
      "text/plain": [
       "(-1.0, 3.5)"
      ]
     },
     "execution_count": 23,
     "metadata": {},
     "output_type": "execute_result"
    },
    {
     "data": {
      "image/png": "[encoded data removed]",
      "text/plain": [
       "<Figure size 864x864 with 6 Axes>"
      ]
     },
     "metadata": {
      "needs_background": "light"
     },
     "output_type": "display_data"
    }
   ],
   "source": [
    "f,(ax0,ax1,ax2) = plt.subplots(3,2, figsize=(12,12))\n",
    "# Histogram\n",
    "ax=sns.histplot(x=norm_dist0, alpha=0.4, ax=ax0[0])\n",
    "ax.set_xlim(-1,3.5)\n",
    "ax=sns.histplot(x=norm_dist1, alpha=0.4, ax=ax1[0])\n",
    "ax.set_xlim(-1,3.5)\n",
    "ax=sns.histplot(x=two_dist, alpha=0.4, ax=ax2[0])\n",
    "ax.set_xlim(-1,3.5)\n",
    "\n",
    "# CDF\n",
    "ax=sns.kdeplot(x=norm_dist0, alpha=0.4, ax=ax0[1], cumulative=True)\n",
    "ax.set_xlim(-1,3.5)\n",
    "ax=sns.kdeplot(x=norm_dist1, alpha=0.4, ax=ax1[1], cumulative=True)\n",
    "ax.set_xlim(-1,3.5)\n",
    "ax=sns.kdeplot(x=two_dist, alpha=0.4, ax=ax2[1], cumulative=True)\n",
    "ax.set_xlim(-1,3.5)"
   ]
  },
  {
   "cell_type": "markdown",
   "metadata": {
    "heading_collapsed": true,
    "hidden": true
   },
   "source": [
    "## Relative easy to view multiple distributions"
   ]
  },
  {
   "cell_type": "code",
   "execution_count": 24,
   "metadata": {
    "hidden": true
   },
   "outputs": [],
   "source": [
    "norm_dist0 = stats.norm.rvs(0,0.3,domain_x.shape)\n",
    "norm_dist1 = stats.norm.rvs(0,0.2,domain_x.shape)\n",
    "norm_dist2 = stats.norm.rvs(0.3,0.2,domain_x.shape)"
   ]
  },
  {
   "cell_type": "code",
   "execution_count": 25,
   "metadata": {
    "hidden": true
   },
   "outputs": [
    {
     "data": {
      "image/png": "[encoded data removed]",
      "text/plain": [
       "<Figure size 864x864 with 2 Axes>"
      ]
     },
     "metadata": {
      "needs_background": "light"
     },
     "output_type": "display_data"
    }
   ],
   "source": [
    "f,(ax0,ax1) = plt.subplots(2,1, figsize=(12,12))\n",
    "# Histogram\n",
    "ax=sns.histplot(x=norm_dist0, alpha=0.4, ax=ax0, color='red')\n",
    "ax=sns.histplot(x=norm_dist1, alpha=0.4, ax=ax0, color='yellow')\n",
    "ax=sns.histplot(x=norm_dist2, alpha=0.4, ax=ax0, color='blue')\n",
    "\n",
    "# CDF\n",
    "ax=sns.kdeplot(x=norm_dist0, alpha=0.4, ax=ax1, cumulative=True, color='red')\n",
    "ax=sns.kdeplot(x=norm_dist1, alpha=0.4, ax=ax1, cumulative=True, color='yellow')\n",
    "ax=sns.kdeplot(x=norm_dist2, alpha=0.4, ax=ax1, cumulative=True, color='blue')"
   ]
  },
  {
   "cell_type": "markdown",
   "metadata": {
    "heading_collapsed": true
   },
   "source": [
    "# Level Up: Skewness"
   ]
  },
  {
   "cell_type": "markdown",
   "metadata": {
    "hidden": true
   },
   "source": [
    "Probability distributions can have skew, meaning they have more mass further from the mean on one side of the distribution than another. A skew of zero is perfectly symmetrical about the mean.   \n",
    "\n",
    "![skew](images/skew.png)"
   ]
  },
  {
   "cell_type": "code",
   "execution_count": 59,
   "metadata": {
    "hidden": true
   },
   "outputs": [
    {
     "name": "stdout",
     "output_type": "stream",
     "text": [
      "-0.028234694950025042\n"
     ]
    }
   ],
   "source": [
    "# We can check skewness with scipy\n",
    "\n",
    "z_curve = np.random.normal(0, 1, 1000)\n",
    "print(stats.skew(z_curve))"
   ]
  },
  {
   "cell_type": "markdown",
   "metadata": {
    "heading_collapsed": true
   },
   "source": [
    "# Level Up: Kurtosis"
   ]
  },
  {
   "cell_type": "markdown",
   "metadata": {
    "hidden": true
   },
   "source": [
    "![kurtosis](images/kurtosis.png)"
   ]
  },
  {
   "cell_type": "markdown",
   "metadata": {
    "heading_collapsed": true
   },
   "source": [
    "# Level Up: Transforming Data"
   ]
  },
  {
   "cell_type": "markdown",
   "metadata": {
    "hidden": true
   },
   "source": [
    "We may want to transform our skewed data to make it approach symmetry.\n",
    "\n",
    "Common transformations of this data include "
   ]
  },
  {
   "cell_type": "markdown",
   "metadata": {
    "heading_collapsed": true,
    "hidden": true
   },
   "source": [
    "## Root Transformations"
   ]
  },
  {
   "cell_type": "markdown",
   "metadata": {
    "hidden": true
   },
   "source": [
    "- $x \\rightarrow\\sqrt[n]{x}$"
   ]
  },
  {
   "cell_type": "markdown",
   "metadata": {
    "heading_collapsed": true,
    "hidden": true
   },
   "source": [
    "## Logarithmic Transformations"
   ]
  },
  {
   "cell_type": "markdown",
   "metadata": {
    "hidden": true
   },
   "source": [
    "- $x \\rightarrow\\log_n{x}$"
   ]
  },
  {
   "cell_type": "markdown",
   "metadata": {
    "heading_collapsed": true,
    "hidden": true
   },
   "source": [
    "## Power Transformations"
   ]
  },
  {
   "cell_type": "markdown",
   "metadata": {
    "hidden": true
   },
   "source": [
    "- $x\\rightarrow x^n$"
   ]
  }
 ],
 "metadata": {
  "kernelspec": {
   "display_name": "Python 3",
   "language": "python",
   "name": "python3"
  },
  "language_info": {
   "codemirror_mode": {
    "name": "ipython",
    "version": 3
   },
   "file_extension": ".py",
   "mimetype": "text/x-python",
   "name": "python",
   "nbconvert_exporter": "python",
   "pygments_lexer": "ipython3",
   "version": "3.8.5"
  },
  "toc": {
   "base_numbering": 1,
   "nav_menu": {},
   "number_sections": true,
   "sideBar": true,
   "skip_h1_title": false,
   "title_cell": "Table of Contents",
   "title_sidebar": "TOC",
   "toc_cell": true,
   "toc_position": {
    "height": "calc(100% - 180px)",
    "left": "10px",
    "top": "150px",
    "width": "384px"
   },
   "toc_section_display": true,
   "toc_window_display": true
  }
 },
 "nbformat": 4,
 "nbformat_minor": 4
}
