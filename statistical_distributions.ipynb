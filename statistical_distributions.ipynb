{
 "cells": [
  {
   "cell_type": "markdown",
   "metadata": {
    "toc": true
   },
   "source": [
    "<h1>Table of Contents<span class=\"tocSkip\"></span></h1>\n",
    "<div class=\"toc\"><ul class=\"toc-item\"><li><span><a href=\"#Objectives\" data-toc-modified-id=\"Objectives-1\"><span class=\"toc-item-num\">1&nbsp;&nbsp;</span>Objectives</a></span></li><li><span><a href=\"#First-Steps:-Sampling\" data-toc-modified-id=\"First-Steps:-Sampling-2\"><span class=\"toc-item-num\">2&nbsp;&nbsp;</span>First Steps: Sampling</a></span><ul class=\"toc-item\"><li><span><a href=\"#Our-View-of-The-World-Isn't-Perfect\" data-toc-modified-id=\"Our-View-of-The-World-Isn't-Perfect-2.1\"><span class=\"toc-item-num\">2.1&nbsp;&nbsp;</span>Our View of The World Isn't Perfect</a></span></li><li><span><a href=\"#Solutions?\" data-toc-modified-id=\"Solutions?-2.2\"><span class=\"toc-item-num\">2.2&nbsp;&nbsp;</span>Solutions?</a></span><ul class=\"toc-item\"><li><span><a href=\"#Observe-the-Whole-Population\" data-toc-modified-id=\"Observe-the-Whole-Population-2.2.1\"><span class=\"toc-item-num\">2.2.1&nbsp;&nbsp;</span>Observe the Whole Population</a></span></li><li><span><a href=\"#We-Sample-and-Infer-the-Population's-Distribution\" data-toc-modified-id=\"We-Sample-and-Infer-the-Population's-Distribution-2.2.2\"><span class=\"toc-item-num\">2.2.2&nbsp;&nbsp;</span>We Sample and Infer the Population's Distribution</a></span></li></ul></li><li><span><a href=\"#Going-Forward\" data-toc-modified-id=\"Going-Forward-2.3\"><span class=\"toc-item-num\">2.3&nbsp;&nbsp;</span>Going Forward</a></span></li></ul></li><li><span><a href=\"#Probability-Distributions\" data-toc-modified-id=\"Probability-Distributions-3\"><span class=\"toc-item-num\">3&nbsp;&nbsp;</span>Probability Distributions</a></span><ul class=\"toc-item\"><li><span><a href=\"#Discrete-Distributions\" data-toc-modified-id=\"Discrete-Distributions-3.1\"><span class=\"toc-item-num\">3.1&nbsp;&nbsp;</span>Discrete Distributions</a></span><ul class=\"toc-item\"><li><span><a href=\"#Examples-of-Discrete-Distributions\" data-toc-modified-id=\"Examples-of-Discrete-Distributions-3.1.1\"><span class=\"toc-item-num\">3.1.1&nbsp;&nbsp;</span>Examples of Discrete Distributions</a></span></li></ul></li><li><span><a href=\"#Continuous-Distributions\" data-toc-modified-id=\"Continuous-Distributions-3.2\"><span class=\"toc-item-num\">3.2&nbsp;&nbsp;</span>Continuous Distributions</a></span><ul class=\"toc-item\"><li><span><a href=\"#Examples-of-Continuous-Distributions\" data-toc-modified-id=\"Examples-of-Continuous-Distributions-3.2.1\"><span class=\"toc-item-num\">3.2.1&nbsp;&nbsp;</span>Examples of Continuous Distributions</a></span></li></ul></li></ul></li><li><span><a href=\"#PMF:-Probability-Mass-Function\" data-toc-modified-id=\"PMF:-Probability-Mass-Function-4\"><span class=\"toc-item-num\">4&nbsp;&nbsp;</span>PMF: Probability Mass Function</a></span><ul class=\"toc-item\"><li><span><a href=\"#Uniform-Distribution\" data-toc-modified-id=\"Uniform-Distribution-4.1\"><span class=\"toc-item-num\">4.1&nbsp;&nbsp;</span>Uniform Distribution</a></span></li></ul></li><li><span><a href=\"#PDF:-Probability-Density-Function\" data-toc-modified-id=\"PDF:-Probability-Density-Function-5\"><span class=\"toc-item-num\">5&nbsp;&nbsp;</span>PDF: Probability Density Function</a></span><ul class=\"toc-item\"><li><span><a href=\"#Describing-the-PDF\" data-toc-modified-id=\"Describing-the-PDF-5.1\"><span class=\"toc-item-num\">5.1&nbsp;&nbsp;</span>Describing the PDF</a></span></li></ul></li><li><span><a href=\"#CDF:-Cumulative-Distribution-Function\" data-toc-modified-id=\"CDF:-Cumulative-Distribution-Function-6\"><span class=\"toc-item-num\">6&nbsp;&nbsp;</span>CDF: Cumulative Distribution Function</a></span><ul class=\"toc-item\"><li><span><a href=\"#Some-Things-to-Be-Aware-Of\" data-toc-modified-id=\"Some-Things-to-Be-Aware-Of-6.1\"><span class=\"toc-item-num\">6.1&nbsp;&nbsp;</span>Some Things to Be Aware Of</a></span></li><li><span><a href=\"#Example:-Using-CDF-&amp;-comparison-to-PDF\" data-toc-modified-id=\"Example:-Using-CDF-&amp;-comparison-to-PDF-6.2\"><span class=\"toc-item-num\">6.2&nbsp;&nbsp;</span>Example: Using CDF &amp; comparison to PDF</a></span></li></ul></li><li><span><a href=\"#Exercises\" data-toc-modified-id=\"Exercises-7\"><span class=\"toc-item-num\">7&nbsp;&nbsp;</span>Exercises</a></span><ul class=\"toc-item\"><li><span><a href=\"#Order-Totals-CDF-&amp;-PDF\" data-toc-modified-id=\"Order-Totals-CDF-&amp;-PDF-7.1\"><span class=\"toc-item-num\">7.1&nbsp;&nbsp;</span>Order Totals CDF &amp; PDF</a></span></li><li><span><a href=\"#Order-Totals-Observations\" data-toc-modified-id=\"Order-Totals-Observations-7.2\"><span class=\"toc-item-num\">7.2&nbsp;&nbsp;</span>Order Totals Observations</a></span></li></ul></li><li><span><a href=\"#Level-Up:-Details-on-Expected-Value-and-Variance\" data-toc-modified-id=\"Level-Up:-Details-on-Expected-Value-and-Variance-8\"><span class=\"toc-item-num\">8&nbsp;&nbsp;</span>Level Up: Details on Expected Value and Variance</a></span><ul class=\"toc-item\"><li><span><a href=\"#For-PMF---Discrete-Values\" data-toc-modified-id=\"For-PMF---Discrete-Values-8.1\"><span class=\"toc-item-num\">8.1&nbsp;&nbsp;</span>For PMF - Discrete Values</a></span><ul class=\"toc-item\"><li><span><a href=\"#Expected-Value/Mean\" data-toc-modified-id=\"Expected-Value/Mean-8.1.1\"><span class=\"toc-item-num\">8.1.1&nbsp;&nbsp;</span>Expected Value/Mean</a></span></li><li><span><a href=\"#Variance/Standard-Deviation\" data-toc-modified-id=\"Variance/Standard-Deviation-8.1.2\"><span class=\"toc-item-num\">8.1.2&nbsp;&nbsp;</span>Variance/Standard Deviation</a></span></li></ul></li><li><span><a href=\"#For-PDF---Continuous-Values\" data-toc-modified-id=\"For-PDF---Continuous-Values-8.2\"><span class=\"toc-item-num\">8.2&nbsp;&nbsp;</span>For PDF - Continuous Values</a></span></li></ul></li><li><span><a href=\"#Level-Up:-CDF-Use-Cases\" data-toc-modified-id=\"Level-Up:-CDF-Use-Cases-9\"><span class=\"toc-item-num\">9&nbsp;&nbsp;</span>Level Up: CDF Use Cases</a></span><ul class=\"toc-item\"><li><span><a href=\"#Quickly-identify-key-values\" data-toc-modified-id=\"Quickly-identify-key-values-9.1\"><span class=\"toc-item-num\">9.1&nbsp;&nbsp;</span>Quickly identify key values</a></span></li><li><span><a href=\"#Outliers-can-be-more-obvious\" data-toc-modified-id=\"Outliers-can-be-more-obvious-9.2\"><span class=\"toc-item-num\">9.2&nbsp;&nbsp;</span>Outliers can be more obvious</a></span></li><li><span><a href=\"#Identifying-clusters\" data-toc-modified-id=\"Identifying-clusters-9.3\"><span class=\"toc-item-num\">9.3&nbsp;&nbsp;</span>Identifying clusters</a></span></li><li><span><a href=\"#Relative-easy-to-view-multiple-distributions\" data-toc-modified-id=\"Relative-easy-to-view-multiple-distributions-9.4\"><span class=\"toc-item-num\">9.4&nbsp;&nbsp;</span>Relative easy to view multiple distributions</a></span></li></ul></li><li><span><a href=\"#Level-Up:-Skewness\" data-toc-modified-id=\"Level-Up:-Skewness-10\"><span class=\"toc-item-num\">10&nbsp;&nbsp;</span>Level Up: Skewness</a></span></li><li><span><a href=\"#Level-Up:-Kurtosis\" data-toc-modified-id=\"Level-Up:-Kurtosis-11\"><span class=\"toc-item-num\">11&nbsp;&nbsp;</span>Level Up: Kurtosis</a></span></li><li><span><a href=\"#Level-Up:-Transforming-Data\" data-toc-modified-id=\"Level-Up:-Transforming-Data-12\"><span class=\"toc-item-num\">12&nbsp;&nbsp;</span>Level Up: Transforming Data</a></span><ul class=\"toc-item\"><li><span><a href=\"#Root-Transformations\" data-toc-modified-id=\"Root-Transformations-12.1\"><span class=\"toc-item-num\">12.1&nbsp;&nbsp;</span>Root Transformations</a></span></li><li><span><a href=\"#Logarithmic-Transformations\" data-toc-modified-id=\"Logarithmic-Transformations-12.2\"><span class=\"toc-item-num\">12.2&nbsp;&nbsp;</span>Logarithmic Transformations</a></span></li><li><span><a href=\"#Power-Transformations\" data-toc-modified-id=\"Power-Transformations-12.3\"><span class=\"toc-item-num\">12.3&nbsp;&nbsp;</span>Power Transformations</a></span></li></ul></li></ul></div>"
   ]
  },
  {
   "cell_type": "code",
   "execution_count": 1,
   "metadata": {},
   "outputs": [],
   "source": [
    "from scipy import stats\n",
    "from matplotlib import pyplot as plt\n",
    "import seaborn as sns\n",
    "import numpy as np\n",
    "%matplotlib inline"
   ]
  },
  {
   "cell_type": "markdown",
   "metadata": {
    "heading_collapsed": true
   },
   "source": [
    "# Objectives"
   ]
  },
  {
   "cell_type": "markdown",
   "metadata": {
    "hidden": true
   },
   "source": [
    "* Explain how sampling is related to its related population\n",
    "* Describe the difference between discrete and continuous random variables\n",
    "* Describe the difference between PMFs, PDFs, and CDFs"
   ]
  },
  {
   "cell_type": "markdown",
   "metadata": {
    "heading_collapsed": true
   },
   "source": [
    "# First Steps: Sampling"
   ]
  },
  {
   "cell_type": "markdown",
   "metadata": {
    "hidden": true
   },
   "source": [
    "Before we get into our main topic of probability distributions, it'll help to first understand the concept of **sampling**."
   ]
  },
  {
   "cell_type": "markdown",
   "metadata": {
    "heading_collapsed": true,
    "hidden": true
   },
   "source": [
    "## Our View of The World Isn't Perfect"
   ]
  },
  {
   "cell_type": "markdown",
   "metadata": {
    "hidden": true
   },
   "source": [
    "We don't have _perfect_ information; life doesn't have an answer key\n",
    "\n",
    "\n",
    "![no answer in the back of the book meme](images/no-answers-in-back-of-book.jpeg)\n",
    "\n",
    "\n",
    "Ideally, we want to have all the details of a whole group. But as you can guess, that's not always feasible."
   ]
  },
  {
   "cell_type": "markdown",
   "metadata": {
    "hidden": true
   },
   "source": [
    "**🧠 Knowledge Check**: What are some reasons we sometimes _can't_ observe the whole group?\n",
    "<details>\n",
    "<ul>\n",
    "    <li>Expensive</li>\n",
    "    <li>Unrealistic</li>\n",
    "    <li>We don't need it to gain insights!</li>\n",
    "</ul>\n",
    "</details>"
   ]
  },
  {
   "cell_type": "markdown",
   "metadata": {
    "heading_collapsed": true,
    "hidden": true
   },
   "source": [
    "## Solutions?"
   ]
  },
  {
   "cell_type": "markdown",
   "metadata": {
    "hidden": true
   },
   "source": [
    "Let's use an example scenario to think about how we can approach this. Let's say we would like to know the ages of students at Flatiron School. \n",
    "\n",
    "Picture what this might look like. How would you describe the population of students' ages?"
   ]
  },
  {
   "cell_type": "markdown",
   "metadata": {
    "hidden": true
   },
   "source": [
    "> **Key Terms**\n",
    ">\n",
    "> We define the **population** as the whole group we're interested in. We abstract this to the population being the whole set of _possible outcomes_.\n",
    "> \n",
    "> And when we \"pick\" a student (or students), we say we have (randomly) _sampled_ over the population. We call this subset of \"picked\" individuals/outcomes from the population a **sample**."
   ]
  },
  {
   "cell_type": "markdown",
   "metadata": {
    "hidden": true
   },
   "source": [
    "Well, if we knew what the **population** (all the Flatiron students) looked like, we could probably get an idea of what the likely age is of a _randomly_ picked one from the population."
   ]
  },
  {
   "cell_type": "markdown",
   "metadata": {
    "hidden": true
   },
   "source": [
    "We can describe the \"look\" of the population a **probability distribution**. "
   ]
  },
  {
   "cell_type": "markdown",
   "metadata": {
    "hidden": true
   },
   "source": [
    "> **Key Terms**\n",
    "> \n",
    "> A **probability distribution** is a representation of the frequencies of potential outcomes or the percentage of time each outcome occurs."
   ]
  },
  {
   "cell_type": "markdown",
   "metadata": {
    "hidden": true
   },
   "source": [
    "There are a few ways to get the probability distribution, even if it's only approximate."
   ]
  },
  {
   "cell_type": "markdown",
   "metadata": {
    "heading_collapsed": true,
    "hidden": true
   },
   "source": [
    "### Observe the Whole Population"
   ]
  },
  {
   "cell_type": "markdown",
   "metadata": {
    "hidden": true
   },
   "source": [
    "This might seem like \"cheating\" but sometimes this is really the best way even if it's \"expensive\" (monetarily, time, or otherwise). Sometimes this has already been done for us and we can use those results. It's important to note that sometimes the information is outdated but we can use it as approximately right. (Think how the US Census is done only every 10 years.)"
   ]
  },
  {
   "cell_type": "markdown",
   "metadata": {
    "hidden": true
   },
   "source": [
    "So in our example, we could have a _distribution_ of ages of our population. Let's say of all students were asked their age when enrolling:\n",
    "\n",
    "- $15\\%$ are under the age of $25$\n",
    "- $30\\%$ are between $25$ & $30$\n",
    "- $25\\%$ are between $30$ & $35$\n",
    "- $20\\%$ are between $35$ & $40$\n",
    "- $10\\%$ are over the age of $40$"
   ]
  },
  {
   "cell_type": "markdown",
   "metadata": {
    "heading_collapsed": true,
    "hidden": true
   },
   "source": [
    "### We Sample and Infer the Population's Distribution "
   ]
  },
  {
   "cell_type": "markdown",
   "metadata": {
    "hidden": true
   },
   "source": [
    "Another method is to sample the population (usually randomly) and observe what the sample's distribution looks like. We can then infer what the population might look like."
   ]
  },
  {
   "cell_type": "markdown",
   "metadata": {
    "hidden": true
   },
   "source": [
    "Suppose we ask 100 random students their ages and observe the following:\n",
    "\n",
    "- $10$ are under the age of $25$\n",
    "- $30$ are between $25$ & $30$\n",
    "- $30$ are between $30$ & $35$\n",
    "- $15$ are between $35$ & $40$\n",
    "- $15$ are over the age of $40$\n",
    "\n",
    "Then we can guess that our population is similar to this distribution."
   ]
  },
  {
   "cell_type": "markdown",
   "metadata": {
    "hidden": true
   },
   "source": [
    "How similar? Well, that can be a tough question and is part of _inferential statistics_ where we make predictions based on our observations/data.  We'll  be going into more detail about this in the near future."
   ]
  },
  {
   "cell_type": "markdown",
   "metadata": {
    "heading_collapsed": true,
    "hidden": true
   },
   "source": [
    "## Going Forward"
   ]
  },
  {
   "cell_type": "markdown",
   "metadata": {
    "hidden": true
   },
   "source": [
    "Today, we're going to focus on how we can describe probability distributions. This will give us a tool set whether we're talking about a sample or an established population."
   ]
  },
  {
   "cell_type": "markdown",
   "metadata": {
    "hidden": true
   },
   "source": [
    "> **Aside - Use a Mathematical Model as a Proxy to the Population's Distribution**\n",
    "> \n",
    "> If we know what a population distribution _should_ look, we can mathematically  define a model that would fill-in for our population.\n",
    "> \n",
    "> This is analogous to something like using a perfect circle to approximate a car's tire. Is it exactly the same? No, there are some deviations from the circle but it's close enough for many applications.\n",
    "> \n",
    "> There are many other _parametric probability distributions_ which can be described mathematically and can be very convenient for us. We won't focus on this now, but know that is another use case of probability distributions."
   ]
  },
  {
   "cell_type": "markdown",
   "metadata": {
    "heading_collapsed": true
   },
   "source": [
    "# Probability Distributions"
   ]
  },
  {
   "cell_type": "markdown",
   "metadata": {
    "hidden": true
   },
   "source": [
    "![](images/distributions.png)"
   ]
  },
  {
   "cell_type": "markdown",
   "metadata": {
    "hidden": true
   },
   "source": [
    "We will learn about a variety of different probability distributions, but before we do so, we need to establish the difference between **discrete** and **continuous** distributions."
   ]
  },
  {
   "cell_type": "markdown",
   "metadata": {
    "heading_collapsed": true,
    "hidden": true
   },
   "source": [
    "## Discrete Distributions"
   ]
  },
  {
   "cell_type": "markdown",
   "metadata": {
    "hidden": true
   },
   "source": [
    "With discrete distributions, you can only get certain specific values, not all values in a range.  Take, for example, a roll of a single six-sided die. "
   ]
  },
  {
   "cell_type": "markdown",
   "metadata": {
    "hidden": true
   },
   "source": [
    "![](images/uniform.png)"
   ]
  },
  {
   "cell_type": "markdown",
   "metadata": {
    "hidden": true
   },
   "source": [
    "There are 6 possible outcomes of the roll. As you see on the PMF plot, the bars which represent probability do not touch, suggesting non-integer numbers between 1 and 6 are not possible results."
   ]
  },
  {
   "cell_type": "markdown",
   "metadata": {
    "heading_collapsed": true,
    "hidden": true
   },
   "source": [
    "### Examples of Discrete Distributions"
   ]
  },
  {
   "cell_type": "markdown",
   "metadata": {
    "hidden": true
   },
   "source": [
    "- **Uniform Distribution**\n",
    "    - Occurs when all possible outcomes are equally likely.\n",
    "- **Bernoulli Distribution**\n",
    "    - Represents the probability of success for a certain experiment (binary outcome).\n",
    "- **Binomial Distribution**\n",
    "    - Represents the probability of observing a specific number of successes (Bernoulli trials) in a specific number of trials."
   ]
  },
  {
   "cell_type": "markdown",
   "metadata": {
    "heading_collapsed": true,
    "hidden": true
   },
   "source": [
    "## Continuous Distributions"
   ]
  },
  {
   "cell_type": "markdown",
   "metadata": {
    "hidden": true
   },
   "source": [
    "With a continuous distribution, you can expect to get any value within a range. Think about measuring the length of something. The reported measurement can always be more or less precise.\n",
    "\n",
    "![](images/pdf.png)"
   ]
  },
  {
   "cell_type": "markdown",
   "metadata": {
    "heading_collapsed": true,
    "hidden": true
   },
   "source": [
    "### Examples of Continuous Distributions"
   ]
  },
  {
   "cell_type": "markdown",
   "metadata": {
    "hidden": true
   },
   "source": [
    "- **Continuous Uniform**\n",
    "- **Normal or Gaussian**\n",
    "- **Exponential**"
   ]
  },
  {
   "cell_type": "markdown",
   "metadata": {
    "heading_collapsed": true
   },
   "source": [
    "# PMF: Probability Mass Function"
   ]
  },
  {
   "cell_type": "markdown",
   "metadata": {
    "hidden": true
   },
   "source": [
    "The **probability mass function (pmf)** for a random variable gives, at any value $k$, the probability that the random variable takes the value $k$. Suppose, for example, that I have a jar full of lottery balls containing:\n",
    "- 50 \"1\"s,\n",
    "- 25 \"2\"s,\n",
    "- 15 \"3\"s,\n",
    "- 10 \"4\"s\n",
    "\n",
    "We then represent this function in a plot like so:"
   ]
  },
  {
   "cell_type": "code",
   "execution_count": 2,
   "metadata": {
    "hidden": true
   },
   "outputs": [
    {
     "data": {
      "text/plain": [
       "{1: 0.5, 2: 0.25, 3: 0.15, 4: 0.1}"
      ]
     },
     "execution_count": 2,
     "metadata": {},
     "output_type": "execute_result"
    }
   ],
   "source": [
    "# For each number, we calculate the probability that pull it from the jar by dividing\n",
    "\n",
    "numbers = range(1, 5)\n",
    "counts = [50, 25, 15, 10]\n",
    "\n",
    "# calculate the probs by dividing each count by the total number of balls.\n",
    "\n",
    "probs = [count/sum(counts) for count in counts]\n",
    "\n",
    "lotto_dict = {number: prob for number, prob in zip(numbers, probs)}\n",
    "lotto_dict"
   ]
  },
  {
   "cell_type": "code",
   "execution_count": 3,
   "metadata": {
    "hidden": true
   },
   "outputs": [
    {
     "data": {
      "image/png": "[encoded data removed]",
      "text/plain": [
       "<Figure size 432x432 with 1 Axes>"
      ]
     },
     "metadata": {
      "needs_background": "light"
     },
     "output_type": "display_data"
    }
   ],
   "source": [
    "# Plot here!\n",
    "\n",
    "x = list(lotto_dict.keys())\n",
    "y = list(lotto_dict.values())\n",
    "\n",
    "fig, ax = plt.subplots(1, 1, figsize=(6, 6))\n",
    "ax.plot(x, y, 'bo', ms=8, label='lotto pmf')\n",
    "ax.vlines(x, 0, y, 'r', lw=5)\n",
    "ax.legend(loc='best');"
   ]
  },
  {
   "cell_type": "markdown",
   "metadata": {
    "heading_collapsed": true,
    "hidden": true
   },
   "source": [
    "## Uniform Distribution"
   ]
  },
  {
   "cell_type": "markdown",
   "metadata": {
    "hidden": true
   },
   "source": [
    "The uniform distribution describes a set of discrete outcomes whose probabilities are all equally likely.\n",
    "\n",
    "A common example is the roll of a die.  \n",
    "\n",
    "The pmf of a discrete uniform distribution is simply:\n",
    "\n",
    "$ f(x)=\\frac{1}{n} $"
   ]
  },
  {
   "cell_type": "code",
   "execution_count": 4,
   "metadata": {
    "hidden": true
   },
   "outputs": [
    {
     "name": "stdout",
     "output_type": "stream",
     "text": [
      "Expected value: 6.5\n",
      "Variance: 11.916666666666664\n"
     ]
    }
   ],
   "source": [
    "# expected value for the roll of a 12-sided die\n",
    "\n",
    "expected_value = sum([1/12 * n for n in range(1, 13)])\n",
    "print(f'Expected value: {expected_value}')\n",
    "\n",
    "# variance for a roll of a 12-sided die\n",
    "\n",
    "variance = sum([1/12 * (n - expected_value)**2 for n in range(1, 13)])\n",
    "print(f'Variance: {variance}')"
   ]
  },
  {
   "cell_type": "markdown",
   "metadata": {
    "heading_collapsed": true
   },
   "source": [
    "# PDF: Probability Density Function"
   ]
  },
  {
   "cell_type": "markdown",
   "metadata": {
    "hidden": true
   },
   "source": [
    "> Probability density functions are similar to PMFs, in that they describe the probability of a result within a range of values. But where PMFs are appropriate for discrete variables and so can be descibed with barplots, PDFs are smooth curves that describe continuous random variables.  \n",
    "\n",
    "![](images/pdf_temp.png)"
   ]
  },
  {
   "cell_type": "markdown",
   "metadata": {
    "hidden": true
   },
   "source": [
    "We can think of a PDF as a bunch of bars of probabilities getting smaller and smaller until each neighbor is indistinguishable from its neighbor.\n",
    "\n",
    "It is then intuitive that you cannot calculate expected value and variance in the same way as we did with PMFs.  Instead, we have to integrate over the entirety of the curve to calculate the expected value."
   ]
  },
  {
   "cell_type": "markdown",
   "metadata": {
    "hidden": true
   },
   "source": [
    "![](images/pdf_inter.png)"
   ]
  },
  {
   "cell_type": "markdown",
   "metadata": {
    "heading_collapsed": true,
    "hidden": true
   },
   "source": [
    "## Describing the PDF"
   ]
  },
  {
   "cell_type": "markdown",
   "metadata": {
    "hidden": true
   },
   "source": [
    "Instead of calculating the mean and standard deviation by hand, we will rather get familiar with how they affect the shape of our PDF.\n"
   ]
  },
  {
   "cell_type": "markdown",
   "metadata": {
    "hidden": true
   },
   "source": [
    "The mean of our PDF affects where it is centered on the x-axis.  In `numpy` and `stats`, mean is denoted by the \"loc\" parameter.\n",
    "\n",
    "The two plots below have the same shape, but different centers."
   ]
  },
  {
   "cell_type": "code",
   "execution_count": 5,
   "metadata": {
    "hidden": true
   },
   "outputs": [
    {
     "data": {
      "image/png": "[encoded data removed]",
      "text/plain": [
       "<Figure size 432x288 with 1 Axes>"
      ]
     },
     "metadata": {
      "needs_background": "light"
     },
     "output_type": "display_data"
    }
   ],
   "source": [
    "fig, ax = plt.subplots()\n",
    "\n",
    "mean = 0\n",
    "z_curve = np.linspace(stats.norm(mean, 1).ppf(0.01),\n",
    "             stats.norm(mean, 1).ppf(0.99), 100)\n",
    "ax.plot(z_curve, stats.norm(mean, 1).pdf(z_curve),\n",
    "     'r-', lw=5, alpha=0.6, label='z_curve')\n",
    "\n",
    "mean = 1\n",
    "z_curve = np.linspace(stats.norm(mean, 1).ppf(0.01),\n",
    "             stats.norm(mean, 1).ppf(0.99), 100)\n",
    "ax.plot(z_curve, stats.norm(mean, 1).pdf(z_curve),\n",
    "     'b-', lw=5, alpha=0.6, label='norm pdf')\n",
    "\n",
    "ax.set_title(\"Two distributions differing in mean\");"
   ]
  },
  {
   "cell_type": "markdown",
   "metadata": {
    "hidden": true
   },
   "source": [
    "The variance of our plots describes how closely the points are gathered around the mean.  Low variance means tight and skinny, high variance short and wide."
   ]
  },
  {
   "cell_type": "code",
   "execution_count": 6,
   "metadata": {
    "hidden": true
   },
   "outputs": [
    {
     "data": {
      "image/png": "[encoded data removed]",
      "text/plain": [
       "<Figure size 432x288 with 1 Axes>"
      ]
     },
     "metadata": {
      "needs_background": "light"
     },
     "output_type": "display_data"
    }
   ],
   "source": [
    "fig, ax = plt.subplots()\n",
    "\n",
    "mean = 1\n",
    "var = 1\n",
    "z_curve = np.linspace(stats.norm(mean, var).ppf(0.01),\n",
    "             stats.norm(mean, var).ppf(0.99), 100)\n",
    "ax.plot(z_curve, stats.norm(mean, var).pdf(z_curve),\n",
    "     'r-', lw=5, alpha=0.6, label='z_curve')\n",
    "\n",
    "mean = 1\n",
    "var = 3\n",
    "z_curve = np.linspace(stats.norm(mean, var).ppf(0.01),\n",
    "             stats.norm(mean, var).ppf(0.99), 100)\n",
    "ax.plot(z_curve, stats.norm(mean, var).pdf(z_curve),\n",
    "     'b-', lw=5, alpha=0.6, label='norm pdf')\n",
    "\n",
    "ax.set_title(\"Two distributions differing in variance\");"
   ]
  },
  {
   "cell_type": "markdown",
   "metadata": {
    "heading_collapsed": true
   },
   "source": [
    "# CDF: Cumulative Distribution Function"
   ]
  },
  {
   "cell_type": "markdown",
   "metadata": {
    "hidden": true
   },
   "source": [
    "![](images/cdf.png)"
   ]
  },
  {
   "cell_type": "markdown",
   "metadata": {
    "hidden": true
   },
   "source": [
    "The cumulative distribution function describes the probability that your result will be of a value equal to or below a certain value. It can apply to both discrete or continuous functions.\n",
    "\n",
    "For the scenario above, the CDF would describe the probability of drawing a ball equal to or below a certain number.  \n",
    "\n",
    "In order to create the CDF from a sample, we:\n",
    "- align the values from least to greatest\n",
    "- for each value, count the number of values that are less than or equal to the current value\n",
    "- divide that count by the total number of values\n",
    "\n",
    "The CDF of the Lotto example plots how likely we are to get a ball less than or equal to a given example. \n",
    "\n",
    "Let's create the CDF for our Lotto example\n"
   ]
  },
  {
   "cell_type": "code",
   "execution_count": 7,
   "metadata": {
    "hidden": true
   },
   "outputs": [],
   "source": [
    "# align the values\n",
    "\n",
    "lotto_dict = {0:0, 1:50, 2:25, 3:15, 4:10}\n",
    "values = list(lotto_dict.keys())\n",
    "\n",
    "# count the number of values that are less than\n",
    "# or equal to the current value\n",
    "\n",
    "count_less_than_equal = np.cumsum(list(lotto_dict.values()))\n",
    "\n",
    "# divide by total number of values\n",
    "prob_less_than_or_equal = count_less_than_equal/sum(lotto_dict.values()) "
   ]
  },
  {
   "cell_type": "code",
   "execution_count": 8,
   "metadata": {
    "hidden": true
   },
   "outputs": [
    {
     "data": {
      "image/png": "[encoded data removed]",
      "text/plain": [
       "<Figure size 432x288 with 1 Axes>"
      ]
     },
     "metadata": {
      "needs_background": "light"
     },
     "output_type": "display_data"
    }
   ],
   "source": [
    "fig, ax = plt.subplots()\n",
    "ax.plot(values, prob_less_than_or_equal, 'bo', ms=8, label='lotto pdf')\n",
    "for i in range(0, 5):\n",
    "    ax.hlines(prob_less_than_or_equal[i], i,i+1, 'r', lw=5,)\n",
    "for i in range(0, 4):\n",
    "    ax.vlines(i+1, prob_less_than_or_equal[i+1],\n",
    "              prob_less_than_or_equal[i], linestyles='dotted')\n",
    "ax.legend(loc='best' )\n",
    "ax.set_ylim(0);"
   ]
  },
  {
   "cell_type": "markdown",
   "metadata": {
    "heading_collapsed": true,
    "hidden": true
   },
   "source": [
    "## Some Things to Be Aware Of"
   ]
  },
  {
   "cell_type": "markdown",
   "metadata": {
    "hidden": true
   },
   "source": [
    "- For continuous random variables, obtaining probabilities for observing a specific outcome is not possible \n",
    "- Be careful with interpretation of PDF\n",
    "\n",
    "We can use the CDF to learn the probability that a variable will be less than or equal to a given value.\n",
    "\n",
    "Typically, you'll see something like this equation associated with the CDF:\n",
    "\n",
    "$$F(x) = P(X\\leq x)$$"
   ]
  },
  {
   "cell_type": "markdown",
   "metadata": {
    "heading_collapsed": true,
    "hidden": true
   },
   "source": [
    "## Example: Using CDF & comparison to PDF"
   ]
  },
  {
   "cell_type": "markdown",
   "metadata": {
    "hidden": true
   },
   "source": [
    "Consider the following normal distributions of heights (more on the normal distribution below).\n",
    "\n",
    "The PDF and the CDF look like so:\n"
   ]
  },
  {
   "cell_type": "code",
   "execution_count": 16,
   "metadata": {},
   "outputs": [
    {
     "data": {
      "text/plain": [
       "array([2.91857812e-04, 1.15038985e-03, 1.97557593e-03, 2.29246490e-03,\n",
       "       2.38988106e-03, 3.65312079e-03, 3.77868850e-03, 4.53698935e-03,\n",
       "       4.77674104e-03, 5.78928224e-03, 6.12632454e-03, 6.40256894e-03,\n",
       "       1.18353732e-02, 1.19374881e-02, 1.24534013e-02, 1.52654103e-02,\n",
       "       1.55655192e-02, 1.83713011e-02, 1.85722276e-02, 1.87576387e-02,\n",
       "       1.93622324e-02, 2.27490444e-02, 2.62303981e-02, 2.75695559e-02,\n",
       "       2.81568304e-02, 2.84083568e-02, 3.02742206e-02, 3.04363146e-02,\n",
       "       3.08363384e-02, 3.49754058e-02, 3.64469561e-02, 3.71181991e-02,\n",
       "       3.79928674e-02, 3.85216831e-02, 3.99045914e-02, 4.06260843e-02,\n",
       "       4.10298315e-02, 4.11594047e-02, 4.12471572e-02, 4.20033130e-02,\n",
       "       4.22802275e-02, 4.54008845e-02, 4.67111926e-02, 4.76549359e-02,\n",
       "       4.83501178e-02, 5.08074901e-02, 5.23023096e-02, 5.27194365e-02,\n",
       "       5.58358370e-02, 5.71014388e-02, 5.99147532e-02, 6.02905967e-02,\n",
       "       6.21063368e-02, 6.23718875e-02, 6.32208792e-02, 6.32622305e-02,\n",
       "       6.34149335e-02, 6.36529051e-02, 6.37940495e-02, 6.41273516e-02,\n",
       "       6.44698679e-02, 6.50976699e-02, 6.59595555e-02, 6.75970895e-02,\n",
       "       7.36559994e-02, 7.40216478e-02, 7.58743577e-02, 7.67896408e-02,\n",
       "       7.68405302e-02, 7.71987955e-02, 7.78419674e-02, 7.80287280e-02,\n",
       "       7.80845073e-02, 7.86386794e-02, 7.93052324e-02, 7.94820782e-02,\n",
       "       7.96153841e-02, 8.03431992e-02, 8.24332650e-02, 8.25458386e-02,\n",
       "       8.32708087e-02, 8.34618382e-02, 8.39267391e-02, 8.52760897e-02,\n",
       "       8.54207215e-02, 8.67877584e-02, 8.67923974e-02, 8.79239849e-02,\n",
       "       8.83257859e-02, 8.87985753e-02, 8.94512242e-02, 8.95348359e-02,\n",
       "       8.95953506e-02, 9.08070654e-02, 9.08474504e-02, 9.26095764e-02,\n",
       "       9.34617469e-02, 9.56577238e-02, 9.59609912e-02, 9.61189441e-02,\n",
       "       9.96598657e-02, 1.00047631e-01, 1.00384007e-01, 1.00601786e-01,\n",
       "       1.00951072e-01, 1.01190295e-01, 1.02760680e-01, 1.04168335e-01,\n",
       "       1.04314377e-01, 1.07403847e-01, 1.09655398e-01, 1.10993551e-01,\n",
       "       1.11277610e-01, 1.12446249e-01, 1.12762232e-01, 1.14347331e-01,\n",
       "       1.15232078e-01, 1.15486982e-01, 1.16396902e-01, 1.16410654e-01,\n",
       "       1.16597291e-01, 1.17392356e-01, 1.17941859e-01, 1.18040108e-01,\n",
       "       1.18247187e-01, 1.18385608e-01, 1.18807730e-01, 1.19142768e-01,\n",
       "       1.21993335e-01, 1.22658526e-01, 1.23189150e-01, 1.23677408e-01,\n",
       "       1.24364748e-01, 1.26451675e-01, 1.27927454e-01, 1.28287690e-01,\n",
       "       1.28323230e-01, 1.28727514e-01, 1.28830683e-01, 1.30147817e-01,\n",
       "       1.30935446e-01, 1.31917025e-01, 1.33599382e-01, 1.34439978e-01,\n",
       "       1.34912220e-01, 1.35309380e-01, 1.36248471e-01, 1.37949249e-01,\n",
       "       1.38613071e-01, 1.40496776e-01, 1.41092094e-01, 1.41548315e-01,\n",
       "       1.42351683e-01, 1.42748727e-01, 1.44130256e-01, 1.44224433e-01,\n",
       "       1.46295947e-01, 1.47600627e-01, 1.47836337e-01, 1.53566859e-01,\n",
       "       1.54374229e-01, 1.55615252e-01, 1.56662596e-01, 1.57803323e-01,\n",
       "       1.58336694e-01, 1.58337782e-01, 1.61991796e-01, 1.63761381e-01,\n",
       "       1.66572146e-01, 1.71234725e-01, 1.77641880e-01, 1.77985169e-01,\n",
       "       1.78014192e-01, 1.78849877e-01, 1.80660064e-01, 1.80754944e-01,\n",
       "       1.81998449e-01, 1.82279602e-01, 1.84102843e-01, 1.85176000e-01,\n",
       "       1.85583083e-01, 1.87119257e-01, 1.87664106e-01, 1.87867942e-01,\n",
       "       1.90154509e-01, 1.92139778e-01, 1.92684752e-01, 1.93106231e-01,\n",
       "       1.94293592e-01, 1.95676823e-01, 1.96371576e-01, 1.97536075e-01,\n",
       "       1.98326856e-01, 1.99133850e-01, 1.99496193e-01, 1.99899339e-01,\n",
       "       2.00175132e-01, 2.00235549e-01, 2.00393195e-01, 2.00423922e-01,\n",
       "       2.02872286e-01, 2.03170669e-01, 2.06023972e-01, 2.06331097e-01,\n",
       "       2.06358388e-01, 2.06939729e-01, 2.07131817e-01, 2.08114310e-01,\n",
       "       2.08938772e-01, 2.10827382e-01, 2.11966872e-01, 2.13760426e-01,\n",
       "       2.13857213e-01, 2.18401681e-01, 2.18861058e-01, 2.19399273e-01,\n",
       "       2.20208467e-01, 2.20329968e-01, 2.20407713e-01, 2.21498616e-01,\n",
       "       2.23473654e-01, 2.24510205e-01, 2.26569732e-01, 2.26886894e-01,\n",
       "       2.28326517e-01, 2.28441602e-01, 2.28892113e-01, 2.29149177e-01,\n",
       "       2.30724586e-01, 2.34101905e-01, 2.35269311e-01, 2.38532297e-01,\n",
       "       2.41489604e-01, 2.42577762e-01, 2.43255986e-01, 2.44644157e-01,\n",
       "       2.44993889e-01, 2.45479461e-01, 2.45915082e-01, 2.46410674e-01,\n",
       "       2.47067504e-01, 2.49020192e-01, 2.50480607e-01, 2.50579285e-01,\n",
       "       2.53428602e-01, 2.53511161e-01, 2.54892655e-01, 2.55731659e-01,\n",
       "       2.55825989e-01, 2.58576757e-01, 2.60084081e-01, 2.62018859e-01,\n",
       "       2.62415915e-01, 2.62429911e-01, 2.63058360e-01, 2.66177053e-01,\n",
       "       2.66580197e-01, 2.68074155e-01, 2.68858358e-01, 2.69193996e-01,\n",
       "       2.71969874e-01, 2.72718813e-01, 2.73593605e-01, 2.76494991e-01,\n",
       "       2.76751284e-01, 2.77689658e-01, 2.79435101e-01, 2.79864575e-01,\n",
       "       2.80875893e-01, 2.80893638e-01, 2.81426559e-01, 2.82337115e-01,\n",
       "       2.85341076e-01, 2.85421163e-01, 2.87169272e-01, 2.88043480e-01,\n",
       "       2.90045776e-01, 2.90579116e-01, 2.91289645e-01, 2.91418630e-01,\n",
       "       2.92028431e-01, 2.92036948e-01, 2.93239769e-01, 2.93615364e-01,\n",
       "       2.94433650e-01, 2.94782995e-01, 2.95632128e-01, 2.96583596e-01,\n",
       "       2.97132405e-01, 2.97548960e-01, 2.98039568e-01, 3.00224361e-01,\n",
       "       3.01981202e-01, 3.02944930e-01, 3.04642088e-01, 3.05576295e-01,\n",
       "       3.07023258e-01, 3.11239475e-01, 3.12033619e-01, 3.12394418e-01,\n",
       "       3.12678463e-01, 3.13591301e-01, 3.15366700e-01, 3.15970001e-01,\n",
       "       3.16830957e-01, 3.17496106e-01, 3.18593725e-01, 3.18602444e-01,\n",
       "       3.19547427e-01, 3.20834752e-01, 3.20836540e-01, 3.20929794e-01,\n",
       "       3.22794391e-01, 3.24219631e-01, 3.24258254e-01, 3.24433783e-01,\n",
       "       3.25666768e-01, 3.25716065e-01, 3.30515079e-01, 3.30748951e-01,\n",
       "       3.31305657e-01, 3.31882434e-01, 3.32845245e-01, 3.33099745e-01,\n",
       "       3.33445490e-01, 3.34983349e-01, 3.35319515e-01, 3.35857182e-01,\n",
       "       3.36843945e-01, 3.39147229e-01, 3.40161867e-01, 3.41381037e-01,\n",
       "       3.41600357e-01, 3.41601495e-01, 3.41778733e-01, 3.41974683e-01,\n",
       "       3.42085835e-01, 3.42606227e-01, 3.42762579e-01, 3.45556623e-01,\n",
       "       3.46457115e-01, 3.46721529e-01, 3.50640021e-01, 3.50749421e-01,\n",
       "       3.51460332e-01, 3.51514667e-01, 3.52301327e-01, 3.54339764e-01,\n",
       "       3.55024716e-01, 3.55489078e-01, 3.56041273e-01, 3.56761610e-01,\n",
       "       3.57159155e-01, 3.58848001e-01, 3.58959006e-01, 3.59269053e-01,\n",
       "       3.59841165e-01, 3.60392300e-01, 3.60575396e-01, 3.61529348e-01,\n",
       "       3.63412371e-01, 3.65029864e-01, 3.67370464e-01, 3.69184359e-01,\n",
       "       3.69995574e-01, 3.71100970e-01, 3.72300132e-01, 3.72942261e-01,\n",
       "       3.73212069e-01, 3.73928566e-01, 3.74035442e-01, 3.77027092e-01,\n",
       "       3.77252994e-01, 3.77270581e-01, 3.77617563e-01, 3.79755803e-01,\n",
       "       3.80508077e-01, 3.86323449e-01, 3.86573895e-01, 3.87520156e-01,\n",
       "       3.88668579e-01, 3.89150006e-01, 3.89185703e-01, 3.89951803e-01,\n",
       "       3.92277796e-01, 3.93712723e-01, 3.95726778e-01, 3.96452165e-01,\n",
       "       3.97940595e-01, 3.98910136e-01, 3.99042891e-01, 3.99437888e-01,\n",
       "       4.03065217e-01, 4.04524255e-01, 4.04540671e-01, 4.09602062e-01,\n",
       "       4.10003165e-01, 4.13291016e-01, 4.13448872e-01, 4.14740285e-01,\n",
       "       4.16237545e-01, 4.18621591e-01, 4.18698852e-01, 4.21490642e-01,\n",
       "       4.21741366e-01, 4.22515402e-01, 4.23352793e-01, 4.24440997e-01,\n",
       "       4.26487044e-01, 4.27022686e-01, 4.28015663e-01, 4.29521244e-01,\n",
       "       4.30254122e-01, 4.30587889e-01, 4.31970500e-01, 4.34162181e-01,\n",
       "       4.35534380e-01, 4.36454909e-01, 4.38731107e-01, 4.41876208e-01,\n",
       "       4.42517842e-01, 4.43416257e-01, 4.43986835e-01, 4.44276649e-01,\n",
       "       4.44851975e-01, 4.47818175e-01, 4.49226612e-01, 4.50029783e-01,\n",
       "       4.50043529e-01, 4.50399576e-01, 4.51377089e-01, 4.52352956e-01,\n",
       "       4.53028637e-01, 4.55455517e-01, 4.55735366e-01, 4.60242747e-01,\n",
       "       4.61570125e-01, 4.62048947e-01, 4.64301771e-01, 4.66298688e-01,\n",
       "       4.66413734e-01, 4.66844008e-01, 4.66886141e-01, 4.66893677e-01,\n",
       "       4.67025877e-01, 4.69528078e-01, 4.70555823e-01, 4.70687420e-01,\n",
       "       4.71057949e-01, 4.72515778e-01, 4.72943398e-01, 4.73237823e-01,\n",
       "       4.73894768e-01, 4.73994525e-01, 4.74644905e-01, 4.76724121e-01,\n",
       "       4.76916318e-01, 4.78806096e-01, 4.79127340e-01, 4.79464035e-01,\n",
       "       4.79889590e-01, 4.80293750e-01, 4.80653878e-01, 4.84015361e-01,\n",
       "       4.84791801e-01, 4.85605157e-01, 4.85978104e-01, 4.88845156e-01,\n",
       "       4.89776375e-01, 4.91083703e-01, 4.91818959e-01, 4.93350861e-01,\n",
       "       4.94364012e-01, 4.97830210e-01, 4.97907541e-01, 4.98902532e-01,\n",
       "       5.01532288e-01, 5.02308598e-01, 5.03320032e-01, 5.04337399e-01,\n",
       "       5.05209963e-01, 5.06473547e-01, 5.07494426e-01, 5.08106664e-01,\n",
       "       5.08282129e-01, 5.08299978e-01, 5.08643698e-01, 5.09062743e-01,\n",
       "       5.10823472e-01, 5.11674420e-01, 5.12795427e-01, 5.14049846e-01,\n",
       "       5.14497983e-01, 5.14794329e-01, 5.16041823e-01, 5.16602580e-01,\n",
       "       5.16733007e-01, 5.18566940e-01, 5.18643606e-01, 5.19469951e-01,\n",
       "       5.24398438e-01, 5.26628302e-01, 5.30055140e-01, 5.30400197e-01,\n",
       "       5.31444536e-01, 5.32062112e-01, 5.32377557e-01, 5.34130407e-01,\n",
       "       5.35127422e-01, 5.36969060e-01, 5.37005181e-01, 5.37574752e-01,\n",
       "       5.37817642e-01, 5.39228517e-01, 5.39458826e-01, 5.40567469e-01,\n",
       "       5.40747050e-01, 5.40972435e-01, 5.42391729e-01, 5.43696311e-01,\n",
       "       5.44169158e-01, 5.44726549e-01, 5.44769763e-01, 5.46689442e-01,\n",
       "       5.46814886e-01, 5.47476687e-01, 5.47578839e-01, 5.50734261e-01,\n",
       "       5.51485843e-01, 5.56615648e-01, 5.57218788e-01, 5.57690320e-01,\n",
       "       5.58246238e-01, 5.59483585e-01, 5.60006463e-01, 5.60572451e-01,\n",
       "       5.60665479e-01, 5.64549577e-01, 5.64738206e-01, 5.65179749e-01,\n",
       "       5.66006508e-01, 5.66634740e-01, 5.66911755e-01, 5.68044652e-01,\n",
       "       5.68184082e-01, 5.69382747e-01, 5.69817063e-01, 5.70627312e-01,\n",
       "       5.70738736e-01, 5.71072009e-01, 5.71406920e-01, 5.71571952e-01,\n",
       "       5.72958105e-01, 5.73202432e-01, 5.73510367e-01, 5.75267337e-01,\n",
       "       5.76242551e-01, 5.76508291e-01, 5.76678059e-01, 5.76709512e-01,\n",
       "       5.78525538e-01, 5.78574747e-01, 5.78668326e-01, 5.79610381e-01,\n",
       "       5.82326661e-01, 5.83117831e-01, 5.83494426e-01, 5.83914340e-01,\n",
       "       5.85864770e-01, 5.87778382e-01, 5.88258843e-01, 5.88746890e-01,\n",
       "       5.90039582e-01, 5.90080681e-01, 5.90095208e-01, 5.90636146e-01,\n",
       "       5.91201157e-01, 5.92583118e-01, 5.94105363e-01, 5.94573539e-01,\n",
       "       5.95571658e-01, 5.97442688e-01, 5.97659313e-01, 5.97957108e-01,\n",
       "       5.98284936e-01, 5.99063907e-01, 6.00824938e-01, 6.02871524e-01,\n",
       "       6.03396201e-01, 6.03446798e-01, 6.04108962e-01, 6.06185997e-01,\n",
       "       6.06615968e-01, 6.07888974e-01, 6.07904264e-01, 6.10681844e-01,\n",
       "       6.12728452e-01, 6.12813068e-01, 6.13212181e-01, 6.13321149e-01,\n",
       "       6.13899677e-01, 6.15441110e-01, 6.16022283e-01, 6.16339636e-01,\n",
       "       6.16702701e-01, 6.18908939e-01, 6.19954430e-01, 6.21568563e-01,\n",
       "       6.23647927e-01, 6.24129774e-01, 6.27293503e-01, 6.28072043e-01,\n",
       "       6.28524275e-01, 6.29005700e-01, 6.31347066e-01, 6.33909394e-01,\n",
       "       6.36326990e-01, 6.36467211e-01, 6.37028576e-01, 6.37042658e-01,\n",
       "       6.37287961e-01, 6.37492773e-01, 6.38466891e-01, 6.38867237e-01,\n",
       "       6.40587200e-01, 6.42130112e-01, 6.42307458e-01, 6.45889753e-01,\n",
       "       6.45908366e-01, 6.46142590e-01, 6.49663767e-01, 6.51212562e-01,\n",
       "       6.52800838e-01, 6.54914514e-01, 6.55684853e-01, 6.55729669e-01,\n",
       "       6.55821944e-01, 6.56194337e-01, 6.57851837e-01, 6.57994663e-01,\n",
       "       6.59507232e-01, 6.60187562e-01, 6.60531442e-01, 6.61712974e-01,\n",
       "       6.62100048e-01, 6.63116034e-01, 6.64446980e-01, 6.66173399e-01,\n",
       "       6.67181695e-01, 6.67200185e-01, 6.67607584e-01, 6.68522536e-01,\n",
       "       6.68904458e-01, 6.71603876e-01, 6.71734605e-01, 6.74790917e-01,\n",
       "       6.76736252e-01, 6.77659910e-01, 6.78452989e-01, 6.80491587e-01,\n",
       "       6.81825389e-01, 6.81828566e-01, 6.81835193e-01, 6.83205973e-01,\n",
       "       6.84225694e-01, 6.85299990e-01, 6.85572332e-01, 6.87422341e-01,\n",
       "       6.87456055e-01, 6.88454222e-01, 6.88847072e-01, 6.90083188e-01,\n",
       "       6.91299012e-01, 6.92144621e-01, 6.92174797e-01, 6.92856638e-01,\n",
       "       6.92864089e-01, 6.94107788e-01, 6.94808870e-01, 6.95061322e-01,\n",
       "       6.95789781e-01, 6.95927990e-01, 6.96710617e-01, 6.97347030e-01,\n",
       "       6.98664510e-01, 6.99438889e-01, 6.99598130e-01, 6.99984317e-01,\n",
       "       7.00267637e-01, 7.00510806e-01, 7.01655846e-01, 7.01889173e-01,\n",
       "       7.01993496e-01, 7.03988341e-01, 7.04249735e-01, 7.04312441e-01,\n",
       "       7.05176791e-01, 7.05321408e-01, 7.06084119e-01, 7.07225192e-01,\n",
       "       7.07233422e-01, 7.07335951e-01, 7.09452248e-01, 7.09954101e-01,\n",
       "       7.10590975e-01, 7.10633516e-01, 7.11477799e-01, 7.11753904e-01,\n",
       "       7.12109713e-01, 7.12594233e-01, 7.17037450e-01, 7.18091090e-01,\n",
       "       7.18194840e-01, 7.20263824e-01, 7.20485591e-01, 7.23564103e-01,\n",
       "       7.24746753e-01, 7.26520075e-01, 7.31069065e-01, 7.31204952e-01,\n",
       "       7.31870397e-01, 7.31912190e-01, 7.32774549e-01, 7.33009094e-01,\n",
       "       7.34429762e-01, 7.34560776e-01, 7.35556804e-01, 7.38012810e-01,\n",
       "       7.38309935e-01, 7.38334825e-01, 7.40318317e-01, 7.42216889e-01,\n",
       "       7.44210084e-01, 7.44645761e-01, 7.47320261e-01, 7.47524347e-01,\n",
       "       7.48598307e-01, 7.49048585e-01, 7.51590150e-01, 7.51972509e-01,\n",
       "       7.52430940e-01, 7.53285266e-01, 7.54442839e-01, 7.55729139e-01,\n",
       "       7.56568324e-01, 7.56831920e-01, 7.58014551e-01, 7.58555750e-01,\n",
       "       7.59222599e-01, 7.61826612e-01, 7.61956806e-01, 7.63150686e-01,\n",
       "       7.64163966e-01, 7.65287372e-01, 7.69035635e-01, 7.69884041e-01,\n",
       "       7.71532337e-01, 7.72063028e-01, 7.72930259e-01, 7.72991091e-01,\n",
       "       7.74269309e-01, 7.74961647e-01, 7.75173017e-01, 7.75731595e-01,\n",
       "       7.76048531e-01, 7.76400062e-01, 7.77252422e-01, 7.77821870e-01,\n",
       "       7.78358160e-01, 7.80680559e-01, 7.81175017e-01, 7.84004808e-01,\n",
       "       7.84066582e-01, 7.85080902e-01, 7.85657225e-01, 7.86389824e-01,\n",
       "       7.87841211e-01, 7.89156210e-01, 7.90091336e-01, 7.90094211e-01,\n",
       "       7.90657369e-01, 7.91718164e-01, 7.92363348e-01, 7.92444510e-01,\n",
       "       7.94326836e-01, 7.96359237e-01, 7.99173037e-01, 8.00492390e-01,\n",
       "       8.04497698e-01, 8.07124327e-01, 8.07439595e-01, 8.07624239e-01,\n",
       "       8.08777491e-01, 8.08813240e-01, 8.13346684e-01, 8.14157754e-01,\n",
       "       8.15234980e-01, 8.16388810e-01, 8.16457813e-01, 8.16979836e-01,\n",
       "       8.17119592e-01, 8.17446803e-01, 8.17724140e-01, 8.17772889e-01,\n",
       "       8.17896873e-01, 8.18052543e-01, 8.18170230e-01, 8.18196937e-01,\n",
       "       8.18398551e-01, 8.18678631e-01, 8.19962086e-01, 8.20412109e-01,\n",
       "       8.20558029e-01, 8.20751784e-01, 8.24589151e-01, 8.25113725e-01,\n",
       "       8.26350193e-01, 8.27407338e-01, 8.27441209e-01, 8.27470211e-01,\n",
       "       8.27837143e-01, 8.28438486e-01, 8.28802799e-01, 8.30250784e-01,\n",
       "       8.30343809e-01, 8.30912513e-01, 8.31375947e-01, 8.31980275e-01,\n",
       "       8.32629481e-01, 8.33954908e-01, 8.35509574e-01, 8.36342809e-01,\n",
       "       8.37001923e-01, 8.39352631e-01, 8.40947851e-01, 8.41722912e-01,\n",
       "       8.42008208e-01, 8.42047096e-01, 8.42117001e-01, 8.43155677e-01,\n",
       "       8.43384506e-01, 8.43811444e-01, 8.43890248e-01, 8.44566030e-01,\n",
       "       8.44646793e-01, 8.45151015e-01, 8.46915845e-01, 8.48286347e-01,\n",
       "       8.48411909e-01, 8.50463951e-01, 8.51225069e-01, 8.52728350e-01,\n",
       "       8.52878343e-01, 8.53155669e-01, 8.53389234e-01, 8.53638750e-01,\n",
       "       8.55055617e-01, 8.55956700e-01, 8.56679002e-01, 8.57121385e-01,\n",
       "       8.59468368e-01, 8.59686602e-01, 8.60200725e-01, 8.60933443e-01,\n",
       "       8.61023720e-01, 8.61426014e-01, 8.61988181e-01, 8.62453477e-01,\n",
       "       8.64180674e-01, 8.65402303e-01, 8.65636486e-01, 8.66312193e-01,\n",
       "       8.66587651e-01, 8.67670387e-01, 8.68060717e-01, 8.68802689e-01,\n",
       "       8.68963860e-01, 8.69079951e-01, 8.70384416e-01, 8.71654363e-01,\n",
       "       8.72769980e-01, 8.73432174e-01, 8.74382377e-01, 8.74494941e-01,\n",
       "       8.75580272e-01, 8.75778134e-01, 8.75848570e-01, 8.76112796e-01,\n",
       "       8.77240167e-01, 8.77519003e-01, 8.78287508e-01, 8.80200881e-01,\n",
       "       8.80236265e-01, 8.82489932e-01, 8.83874632e-01, 8.83923564e-01,\n",
       "       8.86256404e-01, 8.86424456e-01, 8.87452641e-01, 8.88916971e-01,\n",
       "       8.89023824e-01, 8.89262877e-01, 8.91607686e-01, 8.93438184e-01,\n",
       "       8.94078002e-01, 8.97818960e-01, 9.00930978e-01, 9.02816609e-01,\n",
       "       9.03426483e-01, 9.05158296e-01, 9.05899015e-01, 9.08279333e-01,\n",
       "       9.09186450e-01, 9.09574180e-01, 9.10671285e-01, 9.11141290e-01,\n",
       "       9.13890155e-01, 9.14744242e-01, 9.15433749e-01, 9.16279574e-01,\n",
       "       9.18058478e-01, 9.18806287e-01, 9.19914043e-01, 9.20026006e-01,\n",
       "       9.20060141e-01, 9.20377889e-01, 9.21394041e-01, 9.21457023e-01,\n",
       "       9.21497933e-01, 9.21737473e-01, 9.22769978e-01, 9.25715116e-01,\n",
       "       9.26149592e-01, 9.27066768e-01, 9.27077145e-01, 9.27310022e-01,\n",
       "       9.29605550e-01, 9.30703173e-01, 9.31675584e-01, 9.31959562e-01,\n",
       "       9.32667182e-01, 9.35541591e-01, 9.38475570e-01, 9.41644356e-01,\n",
       "       9.41778996e-01, 9.43254639e-01, 9.44462002e-01, 9.44842467e-01,\n",
       "       9.44871281e-01, 9.44884163e-01, 9.45240979e-01, 9.47056212e-01,\n",
       "       9.47985874e-01, 9.48375411e-01, 9.49886009e-01, 9.49966262e-01,\n",
       "       9.50741374e-01, 9.53886873e-01, 9.55882906e-01, 9.57991935e-01,\n",
       "       9.58348340e-01, 9.58998368e-01, 9.60051266e-01, 9.60250499e-01,\n",
       "       9.61809089e-01, 9.62881262e-01, 9.64009979e-01, 9.64300614e-01,\n",
       "       9.66613650e-01, 9.67068673e-01, 9.67185661e-01, 9.67540417e-01,\n",
       "       9.69027786e-01, 9.69376223e-01, 9.69555345e-01, 9.69592853e-01,\n",
       "       9.69758766e-01, 9.70592134e-01, 9.71348612e-01, 9.73373007e-01,\n",
       "       9.77725483e-01, 9.80244526e-01, 9.82932416e-01, 9.83913184e-01,\n",
       "       9.85516385e-01, 9.86402587e-01, 9.86412905e-01, 9.86423989e-01,\n",
       "       9.86492498e-01, 9.90952508e-01, 9.91699833e-01, 9.92750545e-01,\n",
       "       9.93412012e-01, 9.94042849e-01, 9.94050400e-01, 9.94050426e-01,\n",
       "       9.96925375e-01, 9.97865038e-01, 9.98164660e-01, 9.98403563e-01])"
      ]
     },
     "execution_count": 16,
     "metadata": {},
     "output_type": "execute_result"
    }
   ],
   "source": [
    "r = sorted(stats.norm.rvs(loc=67, scale=4, size=1000))\n",
    "stats.norm.cdf(r, loc=67, scale=4)"
   ]
  },
  {
   "cell_type": "code",
   "execution_count": 11,
   "metadata": {
    "hidden": true
   },
   "outputs": [
    {
     "data": {
      "image/png": "[encoded data removed]",
      "text/plain": [
       "<Figure size 720x360 with 2 Axes>"
      ]
     },
     "metadata": {
      "needs_background": "light"
     },
     "output_type": "display_data"
    }
   ],
   "source": [
    "r = sorted(stats.norm.rvs(loc=67, scale=4, size=1000))\n",
    "r_cdf = stats.norm.cdf(r, loc=67, scale=4)\n",
    "fig, (ax1, ax2) = plt.subplots(1, 2, figsize=(10, 5))\n",
    "sns.kdeplot(r, ax=ax1, shade=True)\n",
    "ax1.set_title('PDF of Height in US')\n",
    "\n",
    "ax2.plot(r, r_cdf, color='g')\n",
    "ax2.set_title('CDF of Height in the US');"
   ]
  },
  {
   "cell_type": "markdown",
   "metadata": {
    "hidden": true
   },
   "source": [
    "If we provide `numpy` with the underlying parameters of our distribution, we can calculate:"
   ]
  },
  {
   "cell_type": "code",
   "execution_count": 12,
   "metadata": {
    "hidden": true
   },
   "outputs": [
    {
     "data": {
      "text/plain": [
       "0.9331927987311419"
      ]
     },
     "execution_count": 12,
     "metadata": {},
     "output_type": "execute_result"
    }
   ],
   "source": [
    "# the probability that a value falls below a specified value\n",
    "r = stats.norm(67, 4)\n",
    "r.cdf(73)"
   ]
  },
  {
   "cell_type": "code",
   "execution_count": 18,
   "metadata": {
    "hidden": true
   },
   "outputs": [
    {
     "data": {
      "text/plain": [
       "0.4772498680518208"
      ]
     },
     "execution_count": 18,
     "metadata": {},
     "output_type": "execute_result"
    }
   ],
   "source": [
    "# the probability that a value falls between two specified values\n",
    "r = stats.norm(67, 4)\n",
    "r.cdf(75) - r.cdf(67)"
   ]
  },
  {
   "cell_type": "markdown",
   "metadata": {
    "hidden": true
   },
   "source": [
    "We can also calculate the value associated with a specfic percentile:"
   ]
  },
  {
   "cell_type": "code",
   "execution_count": 19,
   "metadata": {
    "hidden": true
   },
   "outputs": [
    {
     "data": {
      "text/plain": [
       "73.5794145078059"
      ]
     },
     "execution_count": 19,
     "metadata": {},
     "output_type": "execute_result"
    }
   ],
   "source": [
    "r.ppf(0.95)"
   ]
  },
  {
   "cell_type": "markdown",
   "metadata": {
    "heading_collapsed": true
   },
   "source": [
    "# Exercises"
   ]
  },
  {
   "cell_type": "markdown",
   "metadata": {
    "heading_collapsed": true,
    "hidden": true
   },
   "source": [
    "## Order Totals CDF & PDF"
   ]
  },
  {
   "cell_type": "markdown",
   "metadata": {
    "hidden": true
   },
   "source": [
    "Imagine that an online clothing business gets orders with totals that are normally distributed with an average of \\\\$95 and a standard deviation of \\\\$18. **Graph the PDF and CDF** for the orders for this business. "
   ]
  },
  {
   "cell_type": "code",
   "execution_count": 22,
   "metadata": {
    "hidden": true
   },
   "outputs": [
    {
     "data": {
      "image/png": "[encoded data removed]",
      "text/plain": [
       "<Figure size 720x360 with 2 Axes>"
      ]
     },
     "metadata": {
      "needs_background": "light"
     },
     "output_type": "display_data"
    }
   ],
   "source": [
    "orders = sorted(stats.norm.rvs(loc=95, scale=18, size=1000))\n",
    "cdf = stats.norm.cdf(orders, loc=95, scale=18)\n",
    "fig, (ax1, ax2) = plt.subplots(1, 2, figsize=(10, 5))\n",
    "sns.kdeplot(orders, ax=ax1, shade=True)\n",
    "ax1.set_title('PDF of Order totals')\n",
    "\n",
    "ax2.plot(orders, cdf, color='g')\n",
    "ax2.set_title('CDF of Order Totals');"
   ]
  },
  {
   "cell_type": "markdown",
   "metadata": {
    "heading_collapsed": true,
    "hidden": true
   },
   "source": [
    "## Order Totals Observations"
   ]
  },
  {
   "cell_type": "code",
   "execution_count": 23,
   "metadata": {},
   "outputs": [
    {
     "data": {
      "text/plain": [
       "165.43136777703674"
      ]
     },
     "execution_count": 23,
     "metadata": {},
     "output_type": "execute_result"
    }
   ],
   "source": [
    "orders[-1]"
   ]
  },
  {
   "cell_type": "code",
   "execution_count": 24,
   "metadata": {},
   "outputs": [
    {
     "data": {
      "text/plain": [
       "41.46047301772304"
      ]
     },
     "execution_count": 24,
     "metadata": {},
     "output_type": "execute_result"
    }
   ],
   "source": [
    "orders[0]"
   ]
  },
  {
   "cell_type": "markdown",
   "metadata": {
    "hidden": true
   },
   "source": [
    "After graphing, **write 1-3 observations** about the distributions of order totals based on these graphs."
   ]
  },
  {
   "cell_type": "markdown",
   "metadata": {
    "hidden": true
   },
   "source": [
    "**Your Observations**\n",
    "\n",
    "Observation 1: \n",
    "\n",
    "Observation 2: \n",
    "\n",
    "Observation 3:\n"
   ]
  },
  {
   "cell_type": "markdown",
   "metadata": {
    "heading_collapsed": true
   },
   "source": [
    "# Level Up: Details on Expected Value and Variance"
   ]
  },
  {
   "cell_type": "markdown",
   "metadata": {
    "heading_collapsed": true,
    "hidden": true
   },
   "source": [
    "## For PMF - Discrete Values"
   ]
  },
  {
   "cell_type": "markdown",
   "metadata": {
    "heading_collapsed": true,
    "hidden": true
   },
   "source": [
    "### Expected Value/Mean"
   ]
  },
  {
   "cell_type": "markdown",
   "metadata": {
    "hidden": true
   },
   "source": [
    "The expected value, or the mean, describes the 'center' of the distribution (you may hear this called the first moment).  The 'center' refers loosely to the middle-values of a distribution, and is measured more precisely by notions like the mean, the median, and the mode.\n",
    "\n",
    "For a discrete distribution, working from the vantage point of a collected sample of n data points:\n",
    "\n",
    "mean = $\\Large\\mu = \\frac{\\Sigma^n_{i = 1}x_i}{n}$\n",
    "\n",
    "If we are working from the vantage point of known probabilities, the mean is referred to as the expected value. The expected value of a discrete distribution is the weighted sum of all values of x, where the weight is their probability.\n",
    " \n",
    "The expected value of the Lotto example is:\n",
    "${\\displaystyle \\operatorname {E} [X]= \\Sigma^n_{i=1}p(x_i)x_i}$"
   ]
  },
  {
   "cell_type": "markdown",
   "metadata": {
    "heading_collapsed": true,
    "hidden": true
   },
   "source": [
    "### Variance/Standard Deviation"
   ]
  },
  {
   "cell_type": "markdown",
   "metadata": {
    "hidden": true
   },
   "source": [
    "Variance describes the spread of the data (it is also referred to as the second moment).  The 'spread' refers loosely to how far away the more extreme values are from the center.\n",
    "\n",
    "Standard deviation is the square root of variance, and effectively measures the *average distance away from the mean*.\n",
    "\n",
    "From the standpoint of a sample, the variance of a discrete distribution of n data points is:\n",
    "\n",
    "std = $\\Large\\sigma = \\sqrt{\\frac{\\Sigma^n_{i = 1}(x_i - \\mu)^2}{n}}$\n",
    "\n",
    "\n",
    "Variance is the expectation of the squared deviation of a random variable from its mean.\n",
    "\n",
    "For our Lotto PMF, that means:\n",
    "\n",
    " $ \\Large E((X-\\mu)^2) = \\sigma^2 = \\Sigma^n_{i=1}p(x_i)(x_i - \\mu)^2$"
   ]
  },
  {
   "cell_type": "markdown",
   "metadata": {
    "heading_collapsed": true,
    "hidden": true
   },
   "source": [
    "## For PDF - Continuous Values"
   ]
  },
  {
   "cell_type": "markdown",
   "metadata": {
    "hidden": true
   },
   "source": [
    "![](images/exp_v_pdf.png)"
   ]
  },
  {
   "cell_type": "markdown",
   "metadata": {
    "heading_collapsed": true
   },
   "source": [
    "# Level Up: CDF Use Cases"
   ]
  },
  {
   "cell_type": "markdown",
   "metadata": {
    "hidden": true
   },
   "source": [
    "You might look at the CDF and wonder if it's a shadow of my beloved histogram. But there are some good use cases for this way of visualizing the CDF"
   ]
  },
  {
   "cell_type": "code",
   "execution_count": 26,
   "metadata": {
    "hidden": true
   },
   "outputs": [
    {
     "data": {
      "text/plain": [
       "(100,)"
      ]
     },
     "execution_count": 26,
     "metadata": {},
     "output_type": "execute_result"
    }
   ],
   "source": [
    "# First let's define some data\n",
    "domain_x = np.linspace(-1,1,100)\n",
    "norm_dist = stats.norm.rvs(0,0.3,domain_x.shape)\n",
    "norm_dist.shape"
   ]
  },
  {
   "cell_type": "markdown",
   "metadata": {
    "heading_collapsed": true,
    "hidden": true
   },
   "source": [
    "## Quickly identify key values"
   ]
  },
  {
   "cell_type": "markdown",
   "metadata": {
    "hidden": true
   },
   "source": [
    "Finding features like the median, minimum, maximum, and quartiles are easy to read"
   ]
  },
  {
   "cell_type": "code",
   "execution_count": 27,
   "metadata": {
    "hidden": true
   },
   "outputs": [
    {
     "data": {
      "text/plain": [
       "<matplotlib.collections.LineCollection at 0x7f93425c2d00>"
      ]
     },
     "execution_count": 27,
     "metadata": {},
     "output_type": "execute_result"
    },
    {
     "data": {
      "image/png": "[encoded data removed]",
      "text/plain": [
       "<Figure size 864x288 with 2 Axes>"
      ]
     },
     "metadata": {
      "needs_background": "light"
     },
     "output_type": "display_data"
    }
   ],
   "source": [
    "f,(ax_pdf,ax_cdf) = plt.subplots(nrows=1,ncols=2,figsize=(12,4))\n",
    "\n",
    "###### Histogram (PDF)\n",
    "ax_pdf = sns.histplot(x=norm_dist, ax=ax_pdf, alpha=0.4)\n",
    "# You can also see the PDF if you want\n",
    "# ax_pdf = sns.kdeplot(x=out, cumulative=False, ax=ax_pdf)\n",
    "# Median\n",
    "ax_pdf.vlines(\n",
    "    x=np.median(norm_dist),\n",
    "    ymin=0,\n",
    "    ymax=10,\n",
    "    linestyles='--',\n",
    "    color='red'      \n",
    ")\n",
    "# 25th-percentile\n",
    "ax_pdf.vlines(\n",
    "    x=np.quantile(norm_dist, 0.25),\n",
    "    ymin=0,\n",
    "    ymax=10,\n",
    "    linestyles='--',\n",
    "    color='purple'      \n",
    ")\n",
    "# 75th-percentile\n",
    "ax_pdf.vlines(\n",
    "    x=np.quantile(norm_dist, 0.75),\n",
    "    ymin=0,\n",
    "    ymax=10,\n",
    "    linestyles='--',\n",
    "    color='purple'      \n",
    ")\n",
    "\n",
    "###### CDF\n",
    "ax_cdf = sns.kdeplot(x=norm_dist, cumulative=True, ax=ax_cdf)\n",
    "# Median\n",
    "ax_cdf.hlines(\n",
    "    y=0.5,\n",
    "    xmin=-1,\n",
    "    xmax=1,\n",
    "    linestyles='--',\n",
    "    color='red'\n",
    ")\n",
    "# 25th-percentile\n",
    "ax_cdf.hlines(\n",
    "    y=0.25,\n",
    "    xmin=-1,\n",
    "    xmax=1,\n",
    "    linestyles='--',\n",
    "    color='purple'\n",
    ")\n",
    "# 75th-percentile\n",
    "ax_cdf.hlines(\n",
    "    y=0.75,\n",
    "    xmin=-1,\n",
    "    xmax=1,\n",
    "    linestyles='--',\n",
    "    color='purple'\n",
    ")"
   ]
  },
  {
   "cell_type": "markdown",
   "metadata": {
    "heading_collapsed": true,
    "hidden": true
   },
   "source": [
    "## Outliers can be more obvious"
   ]
  },
  {
   "cell_type": "markdown",
   "metadata": {
    "hidden": true
   },
   "source": [
    "Visualizations with outliers can be a little tricky. Take a look at your histogram. With outliers, it might be identified but can distort our focus."
   ]
  },
  {
   "cell_type": "code",
   "execution_count": 28,
   "metadata": {
    "hidden": true
   },
   "outputs": [
    {
     "data": {
      "text/plain": [
       "array([ 3.57076157e-02, -2.91993399e-02,  4.45072258e-01,  3.90419164e-01,\n",
       "       -1.00802902e-01,  2.03719375e-01,  3.70974280e-01, -2.64746181e-01,\n",
       "        2.17036538e-01, -1.02688886e-02, -4.71957203e-01,  2.02289785e-01,\n",
       "        2.63976376e-01,  2.25975232e-01,  4.21935449e-01,  5.48328371e-03,\n",
       "        5.51689129e-01,  6.56610591e-01, -4.36058897e-02, -2.59811446e-01,\n",
       "       -2.01320398e-01, -4.06734473e-01, -1.98179883e-02,  2.51258820e-01,\n",
       "        4.71098737e-01,  1.97147929e-02,  3.12876731e-01, -1.27379337e-01,\n",
       "       -5.71183021e-02,  1.49198791e-01,  2.12966099e-01, -7.88848740e-02,\n",
       "       -3.75404058e-02,  1.55651385e-01, -2.03651199e-01,  3.34107222e-01,\n",
       "        7.30294604e-02, -1.90574175e-01,  4.06137453e-01, -5.07755443e-01,\n",
       "        1.67664084e-01,  1.36417123e-01, -1.71932906e-01, -1.90692068e-01,\n",
       "       -2.82465092e-01,  2.98141742e-01, -1.74716735e-01, -1.51085811e-01,\n",
       "        7.25879490e-02,  2.19737816e-01, -1.90520885e-01, -2.92124258e-01,\n",
       "        2.15675349e-01, -3.54489810e-01, -2.08488854e-02,  4.58257859e-01,\n",
       "        7.80510603e-01, -9.15550097e-02,  2.11943791e-02,  2.52493806e-01,\n",
       "       -1.98181921e-01,  2.57044230e-01, -1.86309705e-01,  4.48506092e-01,\n",
       "       -3.86188975e-01, -1.34795628e-02, -1.69515734e-01,  2.94115887e-02,\n",
       "        3.02876538e-01,  1.77825980e-02,  4.13261757e-01, -1.18502117e-01,\n",
       "        3.12615461e-02,  1.27977673e-01, -2.34105850e-01,  1.73705000e-01,\n",
       "        1.75696364e-01, -7.74796124e-02,  1.29719593e-01,  8.73917162e-02,\n",
       "       -2.94732051e-01, -1.22349494e-01,  2.07287019e-02, -1.30093577e-01,\n",
       "       -8.25009251e-02, -6.28499008e-02,  3.86208664e-01, -2.53132282e-01,\n",
       "       -2.22015828e-02, -4.40421904e-01, -3.92529063e-02, -5.49427873e-01,\n",
       "        2.82713408e-01, -3.22150035e-01, -6.06484915e-01, -9.49505579e-02,\n",
       "       -2.01839193e-01,  2.60535031e-01,  6.36110862e-01,  5.25534032e-01,\n",
       "        1.23396005e+01,  8.76711348e+00,  1.95832967e+00,  1.88977345e+00,\n",
       "        4.47973193e+00])"
      ]
     },
     "execution_count": 28,
     "metadata": {},
     "output_type": "execute_result"
    }
   ],
   "source": [
    "# Add an outlier\n",
    "norm_with_outliers = np.append(norm_dist, 5*np.abs(np.random.randn(5)))\n",
    "norm_with_outliers"
   ]
  },
  {
   "cell_type": "code",
   "execution_count": 29,
   "metadata": {
    "hidden": true
   },
   "outputs": [
    {
     "data": {
      "text/plain": [
       "(-1.2537891882203795, 1.0)"
      ]
     },
     "execution_count": 29,
     "metadata": {},
     "output_type": "execute_result"
    },
    {
     "data": {
      "image/png": "[encoded data removed]",
      "text/plain": [
       "<Figure size 864x288 with 2 Axes>"
      ]
     },
     "metadata": {
      "needs_background": "light"
     },
     "output_type": "display_data"
    }
   ],
   "source": [
    "f,(ax0,ax1) = plt.subplots(1,2, figsize=(12,4))\n",
    "# Showing the outliers\n",
    "sns.histplot(x=norm_with_outliers, alpha=0.4, ax=ax0)\n",
    "# Ignoring outliers\n",
    "ax1=sns.histplot(x=norm_with_outliers, alpha=0.4, ax=ax1)\n",
    "ax1.set_xlim(right=1.)"
   ]
  },
  {
   "cell_type": "markdown",
   "metadata": {
    "hidden": true
   },
   "source": [
    "In a worst-case, you might not notice the outliers because it gets swallowed up due by a bin because of the number of bins or bin width parameter"
   ]
  },
  {
   "cell_type": "markdown",
   "metadata": {
    "hidden": true
   },
   "source": [
    "Now using a CDF, it can be a lot easier to identify when there is an extreme value even if we scale the $x$-axis."
   ]
  },
  {
   "cell_type": "code",
   "execution_count": 30,
   "metadata": {
    "hidden": true
   },
   "outputs": [
    {
     "data": {
      "text/plain": [
       "(-3.287698548479577, 1.0)"
      ]
     },
     "execution_count": 30,
     "metadata": {},
     "output_type": "execute_result"
    },
    {
     "data": {
      "image/png": "[encoded data removed]",
      "text/plain": [
       "<Figure size 864x288 with 2 Axes>"
      ]
     },
     "metadata": {
      "needs_background": "light"
     },
     "output_type": "display_data"
    }
   ],
   "source": [
    "f,(ax0,ax1) = plt.subplots(1,2, figsize=(12,4))\n",
    "# Showing the outliers\n",
    "ax0 = sns.kdeplot(x=norm_with_outliers, cumulative=True, ax=ax0)\n",
    "ax0.hlines(1,xmin=-1,xmax=3,color='red',linestyles='--')\n",
    "# Ignoring outliers\n",
    "ax1 = sns.kdeplot(x=norm_with_outliers, cumulative=True, ax=ax1)\n",
    "ax1.hlines(1,xmin=-1,xmax=1,color='red',linestyles='--')\n",
    "ax1.set_xlim(right=1.)"
   ]
  },
  {
   "cell_type": "markdown",
   "metadata": {
    "heading_collapsed": true,
    "hidden": true
   },
   "source": [
    "## Identifying clusters"
   ]
  },
  {
   "cell_type": "markdown",
   "metadata": {
    "hidden": true
   },
   "source": [
    "Typically not hard with a histogram. But you can also see it in CDFs!"
   ]
  },
  {
   "cell_type": "code",
   "execution_count": 31,
   "metadata": {
    "hidden": true
   },
   "outputs": [],
   "source": [
    "domain_x = np.linspace(-1,1,100)\n",
    "norm_dist0 = stats.norm.rvs(0,0.3,domain_x.shape)\n",
    "norm_dist1 = stats.norm.rvs(2,0.2,domain_x.shape)\n",
    "two_dist = np.append(norm_dist0,norm_dist1)"
   ]
  },
  {
   "cell_type": "code",
   "execution_count": 32,
   "metadata": {
    "hidden": true
   },
   "outputs": [
    {
     "data": {
      "text/plain": [
       "(-1.0, 3.5)"
      ]
     },
     "execution_count": 32,
     "metadata": {},
     "output_type": "execute_result"
    },
    {
     "data": {
      "image/png": "[encoded data removed]",
      "text/plain": [
       "<Figure size 864x864 with 6 Axes>"
      ]
     },
     "metadata": {
      "needs_background": "light"
     },
     "output_type": "display_data"
    }
   ],
   "source": [
    "f,(ax0,ax1,ax2) = plt.subplots(3,2, figsize=(12,12))\n",
    "# Histogram\n",
    "ax=sns.histplot(x=norm_dist0, alpha=0.4, ax=ax0[0])\n",
    "ax.set_xlim(-1,3.5)\n",
    "ax=sns.histplot(x=norm_dist1, alpha=0.4, ax=ax1[0])\n",
    "ax.set_xlim(-1,3.5)\n",
    "ax=sns.histplot(x=two_dist, alpha=0.4, ax=ax2[0])\n",
    "ax.set_xlim(-1,3.5)\n",
    "\n",
    "# CDF\n",
    "ax=sns.kdeplot(x=norm_dist0, alpha=0.4, ax=ax0[1], cumulative=True)\n",
    "ax.set_xlim(-1,3.5)\n",
    "ax=sns.kdeplot(x=norm_dist1, alpha=0.4, ax=ax1[1], cumulative=True)\n",
    "ax.set_xlim(-1,3.5)\n",
    "ax=sns.kdeplot(x=two_dist, alpha=0.4, ax=ax2[1], cumulative=True)\n",
    "ax.set_xlim(-1,3.5)"
   ]
  },
  {
   "cell_type": "markdown",
   "metadata": {
    "heading_collapsed": true,
    "hidden": true
   },
   "source": [
    "## Relative easy to view multiple distributions"
   ]
  },
  {
   "cell_type": "code",
   "execution_count": 33,
   "metadata": {
    "hidden": true
   },
   "outputs": [],
   "source": [
    "norm_dist0 = stats.norm.rvs(0,0.3,domain_x.shape)\n",
    "norm_dist1 = stats.norm.rvs(0,0.2,domain_x.shape)\n",
    "norm_dist2 = stats.norm.rvs(0.3,0.2,domain_x.shape)"
   ]
  },
  {
   "cell_type": "code",
   "execution_count": 34,
   "metadata": {
    "hidden": true
   },
   "outputs": [
    {
     "data": {
      "image/png": "[encoded data removed]",
      "text/plain": [
       "<Figure size 864x864 with 2 Axes>"
      ]
     },
     "metadata": {
      "needs_background": "light"
     },
     "output_type": "display_data"
    }
   ],
   "source": [
    "f,(ax0,ax1) = plt.subplots(2,1, figsize=(12,12))\n",
    "# Histogram\n",
    "ax=sns.histplot(x=norm_dist0, alpha=0.4, ax=ax0, color='red')\n",
    "ax=sns.histplot(x=norm_dist1, alpha=0.4, ax=ax0, color='yellow')\n",
    "ax=sns.histplot(x=norm_dist2, alpha=0.4, ax=ax0, color='blue')\n",
    "\n",
    "# CDF\n",
    "ax=sns.kdeplot(x=norm_dist0, alpha=0.4, ax=ax1, cumulative=True, color='red')\n",
    "ax=sns.kdeplot(x=norm_dist1, alpha=0.4, ax=ax1, cumulative=True, color='yellow')\n",
    "ax=sns.kdeplot(x=norm_dist2, alpha=0.4, ax=ax1, cumulative=True, color='blue')"
   ]
  },
  {
   "cell_type": "markdown",
   "metadata": {
    "heading_collapsed": true
   },
   "source": [
    "# Level Up: Skewness"
   ]
  },
  {
   "cell_type": "markdown",
   "metadata": {
    "hidden": true
   },
   "source": [
    "Probability distributions can have skew, meaning they have more mass further from the mean on one side of the distribution than another. A skew of zero is perfectly symmetrical about the mean.   \n",
    "\n",
    "![skew](images/skew.png)"
   ]
  },
  {
   "cell_type": "code",
   "execution_count": 35,
   "metadata": {
    "hidden": true
   },
   "outputs": [
    {
     "name": "stdout",
     "output_type": "stream",
     "text": [
      "-0.22067454192160071\n"
     ]
    }
   ],
   "source": [
    "# We can check skewness with scipy\n",
    "\n",
    "z_curve = np.random.normal(0, 1, 1000)\n",
    "print(stats.skew(z_curve))"
   ]
  },
  {
   "cell_type": "markdown",
   "metadata": {
    "heading_collapsed": true
   },
   "source": [
    "# Level Up: Kurtosis"
   ]
  },
  {
   "cell_type": "markdown",
   "metadata": {
    "hidden": true
   },
   "source": [
    "![kurtosis](images/kurtosis.png)"
   ]
  },
  {
   "cell_type": "markdown",
   "metadata": {
    "heading_collapsed": true
   },
   "source": [
    "# Level Up: Transforming Data"
   ]
  },
  {
   "cell_type": "markdown",
   "metadata": {
    "hidden": true
   },
   "source": [
    "We may want to transform our skewed data to make it approach symmetry.\n",
    "\n",
    "Common transformations of this data include "
   ]
  },
  {
   "cell_type": "markdown",
   "metadata": {
    "heading_collapsed": true,
    "hidden": true
   },
   "source": [
    "## Root Transformations"
   ]
  },
  {
   "cell_type": "markdown",
   "metadata": {
    "hidden": true
   },
   "source": [
    "- $x \\rightarrow\\sqrt[n]{x}$"
   ]
  },
  {
   "cell_type": "markdown",
   "metadata": {
    "heading_collapsed": true,
    "hidden": true
   },
   "source": [
    "## Logarithmic Transformations"
   ]
  },
  {
   "cell_type": "markdown",
   "metadata": {
    "hidden": true
   },
   "source": [
    "- $x \\rightarrow\\log_n{x}$"
   ]
  },
  {
   "cell_type": "markdown",
   "metadata": {
    "heading_collapsed": true,
    "hidden": true
   },
   "source": [
    "## Power Transformations"
   ]
  },
  {
   "cell_type": "markdown",
   "metadata": {
    "hidden": true
   },
   "source": [
    "- $x\\rightarrow x^n$"
   ]
  }
 ],
 "metadata": {
  "kernelspec": {
   "display_name": "Python 3",
   "language": "python",
   "name": "python3"
  },
  "language_info": {
   "codemirror_mode": {
    "name": "ipython",
    "version": 3
   },
   "file_extension": ".py",
   "mimetype": "text/x-python",
   "name": "python",
   "nbconvert_exporter": "python",
   "pygments_lexer": "ipython3",
   "version": "3.8.5"
  },
  "toc": {
   "base_numbering": 1,
   "nav_menu": {},
   "number_sections": true,
   "sideBar": true,
   "skip_h1_title": false,
   "title_cell": "Table of Contents",
   "title_sidebar": "TOC",
   "toc_cell": true,
   "toc_position": {
    "height": "calc(100% - 180px)",
    "left": "10px",
    "top": "150px",
    "width": "384px"
   },
   "toc_section_display": true,
   "toc_window_display": true
  }
 },
 "nbformat": 4,
 "nbformat_minor": 4
}
